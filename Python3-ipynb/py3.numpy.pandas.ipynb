{
 "cells": [
  {
   "source": [
    "# Numpy & Pandas Learning Note\n",
    "- VScode中, `ctrl + /` 快速注释代码\n",
    "## 1. numpy 操作数组对象和基本计算"
   ],
   "cell_type": "markdown",
   "metadata": {}
  },
  {
   "cell_type": "code",
   "execution_count": 1,
   "metadata": {},
   "outputs": [
    {
     "output_type": "stream",
     "name": "stdout",
     "text": [
      "数组是:\n [[[1. 2. 3.]\n  [5. 6. 7.]]]\n数组2是:\n [[[1. 2. 3.]\n  [4. 5. 6.]]]\n数据类型分别是:\n float64 float64\n复数数组是:\n [1.+0.j 2.+0.j 3.+0.j]\n"
     ]
    }
   ],
   "source": [
    "# 生成数组，指定维数和数据类型\n",
    "\n",
    "import numpy as np \n",
    "arr = np.array([[1,2,3],[5,6,7]], ndmin=3, dtype=float)         # 嵌套[]方式创建，嵌套关系需要正确\n",
    "arr2 = np.array(np.mat('1,2,3;4,5,6'), ndmin=3, dtype=float)    # np.mat方式创建，指明分组即可\n",
    "print('数组是:\\n', arr)\n",
    "print('数组2是:\\n', arr2)\n",
    "print('数据类型分别是:\\n', arr.dtype, arr2.dtype)\n",
    "arr_comp = np.array([1, 2, 3], dtype = complex)    # 创建复数数组\n",
    "print('复数数组是:\\n', arr_comp)"
   ]
  },
  {
   "cell_type": "code",
   "execution_count": 2,
   "metadata": {},
   "outputs": [
    {
     "output_type": "stream",
     "name": "stdout",
     "text": [
      "数组3是:\n [[2 2 2]\n [2 2 2]\n [2 2 2]]\n数组4是:\n [[0.35615974 0.00328022 0.13731294]\n [0.91922957 0.83160916 0.94843539]\n [0.52904353 0.70331374 0.97378498]\n [0.48852072 0.89953693 0.43154355]]\n数组4切片:\n [[0.00328022]\n [0.83160916]\n [0.70331374]\n [0.89953693]]\n数组4切片:\n [[0.89953693]]\n"
     ]
    }
   ],
   "source": [
    "# 生成数据，索引筛选\n",
    "\n",
    "arr3 = np.full((3,3),2) # 创建3*3的全2矩阵（矩阵形状和数值，两个参数）\n",
    "print('数组3是:\\n', arr3)\n",
    "arr4 = np.random.random((4,3))\n",
    "print('数组4是:\\n', arr4)\n",
    "print('数组4切片:\\n', arr4[0:,1:2])     # 0:打印所有行，1:2打印第2行（大于等于2，小于3）\n",
    "print('数组4切片:\\n', arr4[-1:,1:2])    # -1打印末行，1:2同上"
   ]
  },
  {
   "cell_type": "code",
   "execution_count": 3,
   "metadata": {},
   "outputs": [
    {
     "output_type": "stream",
     "name": "stdout",
     "text": [
      "原数组维度是： (2, 3)\n新的数组是：\n [[1 2]\n [3 4]\n [5 6]]\n复制的数组是：\n [[1 2 3]\n [4 5 6]]\n"
     ]
    }
   ],
   "source": [
    "# numpy数组属性\n",
    "# ndarray.shape函数获取数组的维度，也可用于调整数组大小\n",
    "\n",
    "import numpy as np\n",
    "a = np.array([[1,2,3],[4,5,6]])\n",
    "print('原数组维度是：', a.shape)     # 获得数组形状（维度）\n",
    "a = np.array([[1,2,3],[4,5,6]])\n",
    "a.shape = (3,2)     # 向数组形状赋值（定义维度）\n",
    "print('新的数组是：\\n', a)\n",
    "b = a.reshape(2,3)\n",
    "print('复制的数组是：\\n', b)"
   ]
  },
  {
   "cell_type": "code",
   "execution_count": 4,
   "metadata": {},
   "outputs": [
    {
     "output_type": "stream",
     "name": "stdout",
     "text": [
      "[ 0  1  2  3  4  5  6  7  8  9 10 11 12 13 14 15 16 17 18 19 20 21 22 23]\n2\n12\n(3, 4)\n"
     ]
    }
   ],
   "source": [
    "# arrange生成数组, ndim获得维度\n",
    "\n",
    "import numpy as np\n",
    "a = np.arange(24) # 生成24以内的数据集\n",
    "b = np.arange(12).reshape(3,4)  # 生成序列数据后，直接reshape形状构成目标数组\n",
    "print (a)\n",
    "print(b.ndim)   # 获得数组的维度\n",
    "print(b.size)\n",
    "print(b.shape)"
   ]
  },
  {
   "cell_type": "code",
   "execution_count": 5,
   "metadata": {},
   "outputs": [
    {
     "output_type": "stream",
     "name": "stdout",
     "text": [
      "[0. 0. 0. 0. 0.]\n[1. 1. 1. 1. 1.]\n[[1 1 1 1]\n [1 1 1 1]]\n"
     ]
    }
   ],
   "source": [
    "# zeros生成全零张量，ones全一张量\n",
    "\n",
    "import numpy as np\n",
    "x = np.zeros(5)\n",
    "print(x)\n",
    "x = np.ones(5)    # 生成全一张量，一维5个数\n",
    "print(x)\n",
    "x = np.ones([2,4], dtype=int) # 指定生成张量的维度，数据类型\n",
    "print(x)"
   ]
  },
  {
   "cell_type": "code",
   "execution_count": 6,
   "metadata": {},
   "outputs": [
    {
     "output_type": "stream",
     "name": "stdout",
     "text": [
      "[1. 2. 3.]\n"
     ]
    }
   ],
   "source": [
    "# asarray将数组（列表或元组）解释为张量\n",
    "\n",
    "import numpy as np\n",
    "x = [1,2,3]  # 此处使用(1,2,3)元组也可以，转张量后一样\n",
    "a = np.asarray(x, dtype = float)\n",
    "print (a)"
   ]
  },
  {
   "cell_type": "code",
   "execution_count": 7,
   "metadata": {},
   "outputs": [
    {
     "output_type": "stream",
     "name": "stdout",
     "text": [
      "[0 1 2 3 4]\n[10 12 14 16 18]\n[10.  12.5 15.  17.5 20. ]\n[10. 12. 14. 16. 18.]\n"
     ]
    }
   ],
   "source": [
    "# arange给定范围内均匀间隔值的ndarray对象\n",
    "# linspace在给定范围内生成指定数量的数\n",
    "\n",
    "import numpy as np\n",
    "x = np.arange(5)       # 生成5以内的数（0-5）\n",
    "print (x)\n",
    "x = np.arange(10,20,2) # 在（10-20）之内，以2为步长\n",
    "print (x)\n",
    "x = np.linspace(10,20,5)# 在（10-20）之内，等分生成5个数\n",
    "print (x)\n",
    "x = np.linspace(10,20, 5, endpoint = False)# 不包含终点而等分\n",
    "print (x)"
   ]
  },
  {
   "cell_type": "code",
   "execution_count": 8,
   "metadata": {},
   "outputs": [
    {
     "output_type": "stream",
     "name": "stdout",
     "text": [
      "[ 10.          12.91549665  16.68100537  21.5443469   27.82559402\n  35.93813664  46.41588834  59.94842503  77.42636827 100.        ]\n[   2.    4.    8.   16.   32.   64.  128.  256.  512. 1024.]\n"
     ]
    }
   ],
   "source": [
    "# logspace在给定范围内生成指定底数的对数对应的指数（底数默认10）\n",
    "\n",
    "a = np.logspace(1.0, 2.0, num = 10)\n",
    "print (a)  # 底数为10,将对数1到2等分为10份，返回其指数\n",
    "a = np.logspace(1,10,num = 10, base = 2)\n",
    "print (a)  # 底数为2,将对数1到10等分为10份，返回其指数"
   ]
  },
  {
   "cell_type": "code",
   "execution_count": 9,
   "metadata": {},
   "outputs": [
    {
     "output_type": "stream",
     "name": "stdout",
     "text": [
      "数组4筛选切片:\n [[0.00328022 0.13731294]\n [0.83160916 0.94843539]\n [0.70331374 0.97378498]\n [0.89953693 0.43154355]]\n数组4条件筛选:\n [[False False False]\n [ True  True  True]\n [ True  True  True]\n [False  True False]]\n数组4条件筛选:\n [0.91922957 0.83160916 0.94843539 0.52904353 0.70331374 0.97378498\n 0.89953693]\n"
     ]
    }
   ],
   "source": [
    "# 条件筛选切片\n",
    "print('数组4筛选切片:\\n', arr4[np.arange(4),1:3])   # 生成0-4的数列，用其选取0-4行，手动选择index为1和2的列\n",
    "print('数组4条件筛选:\\n', arr4 > 0.5)       # 逐个元素判断大小，输出布尔值\n",
    "print('数组4条件筛选:\\n', arr4[arr4 > 0.5]) # 逐个元素判断大小，输出符合条件的值"
   ]
  },
  {
   "cell_type": "code",
   "execution_count": 10,
   "metadata": {
    "scrolled": true
   },
   "outputs": [
    {
     "output_type": "stream",
     "name": "stdout",
     "text": [
      "[2 4 6]\n3\n[4 5 6 7 8 9]\n[2 3 4 5 6 7]\n"
     ]
    }
   ],
   "source": [
    "# slice方法对张量进行切片\n",
    "\n",
    "import numpy as np\n",
    "a = np.arange(10) # 生成10以内的数\n",
    "s = slice(2,7,2)  # 切片取出2到7之间，以2为步长的数\n",
    "print(a[s])       # 调用和python一样，var[slice]\n",
    "print(a[3])       # 切片取index为3的子项\n",
    "print(a[4:])      # 切片取index为4以后的所有子项\n",
    "print(a[2:8])     # 切片取index为2到8之间的所有子项"
   ]
  },
  {
   "cell_type": "code",
   "execution_count": 11,
   "metadata": {},
   "outputs": [
    {
     "output_type": "stream",
     "name": "stdout",
     "text": [
      "[[1 2 3]\n [3 4 5]\n [4 5 6]]\n[1:]后的子项为:\n [[3 4 5]\n [4 5 6]]\n"
     ]
    }
   ],
   "source": [
    "a = np.array([[1,2,3],[3,4,5],[4,5,6]]) # 生成二维数组\n",
    "print (a)     # 输出数组a\n",
    "print ('[1:]后的子项为:\\n', a[1:]) # 输出数组a的后两项（不输出index为0的项）"
   ]
  },
  {
   "cell_type": "code",
   "execution_count": 12,
   "metadata": {},
   "outputs": [
    {
     "output_type": "stream",
     "name": "stdout",
     "text": [
      "数组5:\n [[0 1 2 3]\n [4 5 6 7]]\n数组6:\n [[4 8]\n [7 6]\n [4 7]\n [5 3]]\n数组5和6做矩阵乘法:\n [[ 30  29]\n [110 125]]\n数组5求和:\n [ 4  6  8 10]\n数组5求平均:\n 3.5\n"
     ]
    }
   ],
   "source": [
    "# 基本数学运算\n",
    "\n",
    "# 加减乘除\n",
    "arr5 = np.array(np.arange(8))\n",
    "arr5 = arr5.reshape(2,4)\n",
    "print('数组5:\\n', arr5)\n",
    "arr6 = np.array([[4,8,7,6],[4,7,5,3]])\n",
    "arr6 = arr6.reshape(4,2)\n",
    "print('数组6:\\n', arr6)\n",
    "\n",
    "# 计算\n",
    "# print('加法:\\n', np.add(arr5, arr6))         # 等于 arr5+arr6\n",
    "# print('减法:\\n', np.subtract(arr5, arr6))    # 等于 arr5-arr6\n",
    "# print('乘法:\\n', np.multiply(arr5, arr6))    # 等于 arr5*arr6\n",
    "# print('除法:\\n', np.divide(arr5, arr6))      # 等于 arr5/arr6\n",
    "# print('平方:\\n', np.square(arr5))            # 平方\n",
    "# print('开方:\\n', np.sqrt(arr5))              # 开方\n",
    "\n",
    "# 矩阵计算\n",
    "print('数组5和6做矩阵乘法:\\n', np.dot(arr5,arr6))        # 矩阵相乘，arr1的列数要等于arr2的行数\n",
    "print('数组5求和:\\n', np.sum(arr5, axis=0))     # 对列操作，矩阵按列求和（按行是1）\n",
    "print('数组5求平均:\\n', np.mean(arr5))"
   ]
  },
  {
   "cell_type": "code",
   "execution_count": 13,
   "metadata": {},
   "outputs": [
    {
     "output_type": "stream",
     "name": "stdout",
     "text": [
      "随机数:\n 135.8670876685125\n数组7:\n [[1 2 3]\n [4 5 6]]\n数组7赋值填充:\n [[1 2 3 1 2 3 1 2 3]\n [4 5 6 4 5 6 4 5 6]\n [1 2 3 1 2 3 1 2 3]\n [4 5 6 4 5 6 4 5 6]]\n数组7转置:\n [[1 4]\n [2 5]\n [3 6]]\n"
     ]
    }
   ],
   "source": [
    "# 随机数，复制排布矩阵\n",
    "\n",
    "ran = np.random.uniform(1,199)\n",
    "print('随机数:\\n', ran)\n",
    "arr7 = np.array([[1,2,3],[4,5,6]])\n",
    "print('数组7:\\n', arr7)\n",
    "print('数组7赋值填充:\\n', np.tile(arr7, (2,3)))     # 复制并生成新的矩阵\n",
    "\n",
    "# 打印索引，转置\n",
    "arr7 = np.array([[1,2,3],[4,5,6]])\n",
    "# print(arr7.argsort())           # 以当前矩阵形式，打印升序排列后的索引号\n",
    "print('数组7转置:\\n', arr7.T)                   # 大写T打印转置矩阵"
   ]
  },
  {
   "cell_type": "code",
   "execution_count": 14,
   "metadata": {
    "scrolled": true
   },
   "outputs": [
    {
     "output_type": "stream",
     "name": "stdout",
     "text": [
      "[[ 0  1  2]\n [ 3  4  5]\n [ 6  7  8]\n [ 9 10 11]]\n切片1:\n [[ 4  5]\n [ 7  8]\n [10 11]]\n切片2:\n [[ 4  5]\n [ 7  8]\n [10 11]]\n"
     ]
    }
   ],
   "source": [
    "# 高级索引，对多维数组进行直接索引，分别指定各个维度的调取范围\n",
    "\n",
    "import numpy as np    # 下面生成一个4×3的数组\n",
    "x = np.array([[ 0,  1,  2],[ 3,  4,  5],[ 6,  7,  8],[ 9, 10, 11]])\n",
    "print(x)\n",
    "slc = x[1:4,1:3]      # 一维取1:4，二维取1:3\n",
    "print('切片1:\\n', slc)\n",
    "slc2 = x[1:4,[1,2]]   # 一维取1:4，二维取[1]\n",
    "print('切片2:\\n', slc2)"
   ]
  },
  {
   "cell_type": "code",
   "execution_count": 15,
   "metadata": {},
   "outputs": [
    {
     "output_type": "stream",
     "name": "stdout",
     "text": [
      "a的原始值：\n [[ 0  1  2  3]\n [ 4  5  6  7]\n [ 8  9 10 11]]\n横向3分：\n [array([[0, 1, 2, 3]]), array([[4, 5, 6, 7]]), array([[ 8,  9, 10, 11]])]\n横向3分：\n [array([[0, 1, 2, 3]]), array([[4, 5, 6, 7]]), array([[ 8,  9, 10, 11]])]\n纵向2分：\n [array([[0, 1],\n       [4, 5],\n       [8, 9]]), array([[ 2,  3],\n       [ 6,  7],\n       [10, 11]])]\n纵向2分：\n [array([[0, 1],\n       [4, 5],\n       [8, 9]]), array([[ 2,  3],\n       [ 6,  7],\n       [10, 11]])]\n非等份分割：\n [array([[0, 1],\n       [4, 5],\n       [8, 9]]), array([[ 2],\n       [ 6],\n       [10]]), array([[ 3],\n       [ 7],\n       [11]])]\n"
     ]
    }
   ],
   "source": [
    "# 数据块分割\n",
    "\n",
    "import numpy as np \n",
    "a = np.arange(12).reshape(3,4)\n",
    "print('a的原始值：\\n', a)\n",
    "print('横向3分：\\n', np.split(a, 3, axis=0))    # 横向分3个数据块\n",
    "print('横向3分：\\n', np.vsplit(a, 3))\n",
    "print('纵向2分：\\n', np.split(a, 2, axis=1))    # 纵向分2个数据块\n",
    "print('纵向2分：\\n', np.hsplit(a, 2))\n",
    "print('非等份分割：\\n', np.array_split(a, 3, axis=1)) # 非等份分割"
   ]
  },
  {
   "cell_type": "code",
   "execution_count": 16,
   "metadata": {},
   "outputs": [
    {
     "output_type": "stream",
     "name": "stdout",
     "text": [
      "第1组数据：\n [ 0  1  2  3  4  5  6  7  8  9 10 11 12 13 14 15 16 17 18 19 20 21 22 23] \n [ 0  1  2  3  4  5  6  7  8  9 10 11 12 13 14 15 16 17 18 19 20 21 22 23]\n第2组数据：\n [ 0  1  2 34  4  5  6  7  8  9 10 11 12 13 14 15 16 17 18 19 20 21 22 23] \n [ 0  1  2 34  4  5  6  7  8  9 10 11 12 13 14 15 16 17 18 19 20 21 22 23]\n第3组数据：\n [ 0  1  2 34  4  5  6  7  8  9 10 11 12 13 14 15 16 17 18 19 20 21 22 23] \n [  0   1   2 333   4   5   6   7   8   9  10  11  12  13  14  15  16  17\n  18  19  20  21  22  23]\n"
     ]
    }
   ],
   "source": [
    "# numpy中变量数据的关联（torch中也是）\n",
    "# 使用`.copy`防止关联变化\n",
    "\n",
    "import numpy as np \n",
    "a = np.arange(24)\n",
    "b = a\n",
    "print('第1组数据：\\n', a, '\\n', b)   # 复制后a和b一样\n",
    "\n",
    "b[3]=34\n",
    "print('第2组数据：\\n', a, '\\n', b)   # 修改b后，a也改变\n",
    "\n",
    "c = a.copy()        # 用`.copy`的方式复制变量\n",
    "c[3]=333\n",
    "print('第3组数据：\\n', a, '\\n', c)   # "
   ]
  },
  {
   "cell_type": "code",
   "execution_count": 17,
   "metadata": {},
   "outputs": [
    {
     "output_type": "stream",
     "name": "stdout",
     "text": [
      "矩阵处理的广播机制:\n [[ 4  5  6]\n [ 8  9 10]]\n"
     ]
    }
   ],
   "source": [
    "# 广播机制\n",
    "# 需要形状相同/某一维等宽/某一维宽度为1/单个元素\n",
    "\n",
    "arr7 = np.array([[1,2,3],[4,5,6]])\n",
    "arr8 = np.array([[3],[4]])\n",
    "print('矩阵处理的广播机制:\\n', arr7+arr8)                # 处理不同形状矩阵/数组时，自动填充至较大矩阵的形状"
   ]
  },
  {
   "source": [
    "## 2. Pandas 操作和筛选序列数据与数据框"
   ],
   "cell_type": "markdown",
   "metadata": {}
  },
  {
   "cell_type": "code",
   "execution_count": 18,
   "metadata": {},
   "outputs": [
    {
     "output_type": "stream",
     "name": "stdout",
     "text": [
      "0    A\n1    B\n2    C\n3    D\n4    E\ndtype: object\n0    [A]\n1    [B]\n2    [C]\n3    [D]\n4    [E]\ndtype: object\n"
     ]
    }
   ],
   "source": [
    "# 生成数据，Series本身的函数\n",
    "\n",
    "import pandas as pd \n",
    "s = pd.Series(list('ABCDE'))\n",
    "print(s)\n",
    "# print(s.str.lower())    # 转小写\n",
    "# print(s.str.upper())\n",
    "# print(s.str.len())      # 计算字串长度\n",
    "print(s.str.split(' '))         # 字串工具，切片\n",
    "print(s.str.replace('A', 'H'))  # 字串工具，替换\n",
    "# print(s.str.extract('(\\d)'))    # 字串工具，正则式，提取字串中带有数字的元素，\\d被小括号包裹，可以返回输出\n",
    "# print(s.str.extract('[ab](\\d)'))# 字串工具，正则式，提取a或b开头且带有数字的元素，\\d被小括号包裹，可以返回输出\n",
    "# print(s.str.extract('([ab])(\\d)'))  # [ab]和\\d分别被小括号包裹，将分别返回输出（2列返回值）\n",
    "print(s.str.extract('(?P<string>[ab])(?P<number>\\d)'))  # 对2列返回值的列标题进行命名，使用\"?P<str>\"定义列标题"
   ]
  },
  {
   "cell_type": "code",
   "execution_count": 19,
   "metadata": {},
   "outputs": [
    {
     "output_type": "stream",
     "name": "stdout",
     "text": [
      "序列数据：\n 0     1.0\n1     2.0\n2     4.0\n3     5.0\n4     NaN\n5    34.0\n6    23.0\ndtype: float64\n日期数据：\n DatetimeIndex(['2019-03-02', '2019-03-03', '2019-03-04', '2019-03-05',\n               '2019-03-06', '2019-03-07'],\n              dtype='datetime64[ns]', freq='D')\n数据库1：\n                    a         b         c         d\n2019-03-02  1.043116  0.953348 -0.351245 -0.104927\n2019-03-03 -0.872203 -0.691324 -0.229028  1.001550\n2019-03-04  0.423268  0.932264  0.202251  2.012030\n2019-03-05  2.039856  0.066555 -1.312654 -0.453522\n2019-03-06  0.931854 -0.520966  0.159649  1.899814\n2019-03-07 -1.901983 -0.748079 -2.597847 -0.223775\n数据库2：\n    0  1   2   3\n0  0  1   2   3\n1  4  5   6   7\n2  8  9  10  11\n行名/索引：\n DatetimeIndex(['2019-03-02', '2019-03-03', '2019-03-04', '2019-03-05',\n               '2019-03-06', '2019-03-07'],\n              dtype='datetime64[ns]', freq='D')\n列名：\n Index(['a', 'b', 'c', 'd'], dtype='object')\n值信息：\n [[ 1.04311648  0.95334835 -0.3512449  -0.10492711]\n [-0.87220342 -0.69132413 -0.22902825  1.0015504 ]\n [ 0.42326814  0.93226389  0.20225054  2.01202981]\n [ 2.0398556   0.0665551  -1.3126539  -0.45352229]\n [ 0.93185431 -0.52096571  0.15964929  1.89981376]\n [-1.90198316 -0.74807869 -2.59784669 -0.22377534]]\n基本描述：\n               a         b         c         d\ncount  6.000000  6.000000  6.000000  6.000000\nmean   0.277318 -0.001367 -0.688146  0.688528\nstd    1.429228  0.786303  1.083773  1.102996\nmin   -1.901983 -0.748079 -2.597847 -0.453522\n25%   -0.548336 -0.648735 -1.072302 -0.194063\n50%    0.677561 -0.227205 -0.290137  0.448312\n75%    1.015301  0.715837  0.062480  1.675248\nmax    2.039856  0.953348  0.202251  2.012030\n值排序：\n                    a         b         c         d\n2019-03-07 -1.901983 -0.748079 -2.597847 -0.223775\n2019-03-03 -0.872203 -0.691324 -0.229028  1.001550\n2019-03-06  0.931854 -0.520966  0.159649  1.899814\n2019-03-05  2.039856  0.066555 -1.312654 -0.453522\n2019-03-04  0.423268  0.932264  0.202251  2.012030\n2019-03-02  1.043116  0.953348 -0.351245 -0.104927\n"
     ]
    }
   ],
   "source": [
    "# 生成序列数据或数据框\n",
    "\n",
    "import numpy as np \n",
    "import pandas as pd\n",
    "\n",
    "s = pd.Series([1,2,4,5, np.nan, 34,23])     # pandas中最基本的“序列”\n",
    "print('序列数据：\\n', s)\n",
    "\n",
    "dates = pd.date_range('20190302', periods=6)    # 生成日期序列数据\n",
    "print('日期数据：\\n', dates)\n",
    "\n",
    "# 构建DataFrame数据框，随机生成数据内容，用dates数据做为行索引，自定义标签作为列标题\n",
    "df = pd.DataFrame(np.random.randn(6,4), index=dates, columns=['a', 'b', 'c', 'd'])\n",
    "print('数据库1：\\n', df)\n",
    "\n",
    "# 生成np.array的方式生成数据框，前面用pandas的DataFrame处理过就行\n",
    "df1 = pd.DataFrame(np.arange(12).reshape(3,4))\n",
    "print('数据库2：\\n', df1)\n",
    "\n",
    "# 打印行名（索引）和列名\n",
    "print('行名/索引：\\n', df.index)\n",
    "print('列名：\\n', df.columns)\n",
    "print('值信息：\\n', df.values)\n",
    "print('基本描述：\\n', df.describe())\n",
    "\n",
    "# 按照值进行排序\n",
    "print('值排序：\\n', df.sort_values(by='b', ascending=True)) # 以b列，按升序排序"
   ]
  },
  {
   "cell_type": "code",
   "execution_count": 32,
   "metadata": {},
   "outputs": [
    {
     "output_type": "stream",
     "name": "stdout",
     "text": [
      "0     a\n1    aB\n2    ca\n3    Da\ndtype: object\n0     True\n1     True\n2    False\n3    False\ndtype: bool\n0     True\n1    False\n2     True\n3     True\ndtype: bool\n"
     ]
    }
   ],
   "source": [
    "s = pd.Series(['a', 'aB', 'ca', 'Da'])\n",
    "print(s)\n",
    "rule = r'[a-z]'             # 引号内为正则式规则，匹配小写字母\n",
    "# print(s.str.contains(rule)) # 字串工具，正则式，判断是否包含符合rule规则的内容\n",
    "# print(s.str.startswith('a'))\n",
    "print(s.str.contains('^a')) # 判断是否以a开头\n",
    "# print(s.str.endswith('a'))\n",
    "print(s.str.contains('a$')) # 判断是否以a结尾"
   ]
  },
  {
   "cell_type": "code",
   "execution_count": 20,
   "metadata": {},
   "outputs": [
    {
     "output_type": "stream",
     "name": "stdout",
     "text": [
      "构造数据：\n              A   B   C   D\n2013-01-01   0   1   2   3\n2013-01-02   4   5   6   7\n2013-01-03   8   9  10  11\n2013-01-04  12  13  14  15\n2013-01-05  16  17  18  19\n2013-01-06  20  21  22  23\n2013-01-01     0\n2013-01-02     4\n2013-01-03     8\n2013-01-04    12\n2013-01-05    16\n2013-01-06    20\nFreq: D, Name: A, dtype: int64 \n 2013-01-01     2\n2013-01-02     6\n2013-01-03    10\n2013-01-04    14\n2013-01-05    18\n2013-01-06    22\nFreq: D, Name: C, dtype: int64\n            A  B   C   D\n2013-01-01  0  1   2   3\n2013-01-02  4  5   6   7\n2013-01-03  8  9  10  11 \n              A   B   C   D\n2013-01-02   4   5   6   7\n2013-01-03   8   9  10  11\n2013-01-04  12  13  14  15\nA    16\nB    17\nC    18\nD    19\nName: 2013-01-05 00:00:00, dtype: int64\n             A   B\n2013-01-01   0   1\n2013-01-02   4   5\n2013-01-03   8   9\n2013-01-04  12  13\n2013-01-05  16  17\n2013-01-06  20  21\nA    16\nB    17\nName: 2013-01-05 00:00:00, dtype: int64\n用Index选择：\n              C   D\n2013-01-02   6   7\n2013-01-03  10  11\n2013-01-04  14  15\nA列数值大于16的行:\n              A   B   C   D\n2013-01-06  20  21  22  23\n新数据：\n              A   B    C   D\n2013-01-01   0   1    2   3\n2013-01-02   4   5    6   7\n2013-01-03   8   9  222  11\n2013-01-04  12  13   14  15\n2013-01-05  16  17   18  19\n2013-01-06  20  21   22  23\n"
     ]
    }
   ],
   "source": [
    "# 选择数据(先构造数据)\n",
    "\n",
    "dates = pd.date_range('20130101', periods=6)\n",
    "df = pd.DataFrame(np.arange(24).reshape(6,4), index=dates, columns=['A','B','C','D'])\n",
    "print('构造数据：\\n', df)\n",
    "\n",
    "# 选取\n",
    "print(df['A'], '\\n', df.C)      # 按列名选取数据，两种方式（文本标签/列对象）\n",
    "print(df[0:3], '\\n', df['20130102':'20130104'])\n",
    "\n",
    "# loc选取（用标签进行数据筛选）\n",
    "print(df.loc['20130105'])       # 选取index为指定值的行的数据\n",
    "print(df.loc[:, ['A','B']])     # :表示选择所有行，[]内容表示选择列名为A或B的列\n",
    "print(df.loc['20130105', ['A','B']])    # 指定行index和列名\n",
    "\n",
    "# iloc选取（用位置的index）\n",
    "print('用Index选择：\\n', df.iloc[[1,2,3], 2:4])\n",
    "\n",
    "# ix选取（用标签和index混合筛选数据）   # 未成功使用ix\n",
    "# print(df.ix[:3, ['A','C']])\n",
    "\n",
    "# 逻辑选取\n",
    "print('A列数值大于16的行:\\n', df[df.A > 16])\n",
    "\n",
    "# 选取数据的方式可以用于数据的赋值，如：\n",
    "# df.loc['20130105', ['B']] = 66\n",
    "df.iloc[2,2] = 222\n",
    "print('新数据：\\n', df)"
   ]
  },
  {
   "cell_type": "code",
   "execution_count": 46,
   "metadata": {},
   "outputs": [
    {
     "output_type": "display_data",
     "data": {
      "text/plain": "<Figure size 432x288 with 1 Axes>",
      "image/svg+xml": "<?xml version=\"1.0\" encoding=\"utf-8\" standalone=\"no\"?>\n<!DOCTYPE svg PUBLIC \"-//W3C//DTD SVG 1.1//EN\"\n  \"http://www.w3.org/Graphics/SVG/1.1/DTD/svg11.dtd\">\n<!-- Created with matplotlib (https://matplotlib.org/) -->\n<svg height=\"262.19625pt\" version=\"1.1\" viewBox=\"0 0 385.78125 262.19625\" width=\"385.78125pt\" xmlns=\"http://www.w3.org/2000/svg\" xmlns:xlink=\"http://www.w3.org/1999/xlink\">\n <metadata>\n  <rdf:RDF xmlns:cc=\"http://creativecommons.org/ns#\" xmlns:dc=\"http://purl.org/dc/elements/1.1/\" xmlns:rdf=\"http://www.w3.org/1999/02/22-rdf-syntax-ns#\">\n   <cc:Work>\n    <dc:type rdf:resource=\"http://purl.org/dc/dcmitype/StillImage\"/>\n    <dc:date>2021-04-18T18:27:38.046495</dc:date>\n    <dc:format>image/svg+xml</dc:format>\n    <dc:creator>\n     <cc:Agent>\n      <dc:title>Matplotlib v3.3.3, https://matplotlib.org/</dc:title>\n     </cc:Agent>\n    </dc:creator>\n   </cc:Work>\n  </rdf:RDF>\n </metadata>\n <defs>\n  <style type=\"text/css\">*{stroke-linecap:butt;stroke-linejoin:round;}</style>\n </defs>\n <g id=\"figure_1\">\n  <g id=\"patch_1\">\n   <path d=\"M 0 262.19625 \nL 385.78125 262.19625 \nL 385.78125 0 \nL 0 0 \nz\n\" style=\"fill:none;\"/>\n  </g>\n  <g id=\"axes_1\">\n   <g id=\"patch_2\">\n    <path d=\"M 43.78125 224.64 \nL 378.58125 224.64 \nL 378.58125 7.2 \nL 43.78125 7.2 \nz\n\" style=\"fill:#ffffff;\"/>\n   </g>\n   <g id=\"PathCollection_1\">\n    <defs>\n     <path d=\"M 0 2.236068 \nC 0.593012 2.236068 1.161816 2.000462 1.581139 1.581139 \nC 2.000462 1.161816 2.236068 0.593012 2.236068 0 \nC 2.236068 -0.593012 2.000462 -1.161816 1.581139 -1.581139 \nC 1.161816 -2.000462 0.593012 -2.236068 0 -2.236068 \nC -0.593012 -2.236068 -1.161816 -2.000462 -1.581139 -1.581139 \nC -2.000462 -1.161816 -2.236068 -0.593012 -2.236068 0 \nC -2.236068 0.593012 -2.000462 1.161816 -1.581139 1.581139 \nC -1.161816 2.000462 -0.593012 2.236068 0 2.236068 \nz\n\" id=\"m74975a2c19\" style=\"stroke:#1f77b4;\"/>\n    </defs>\n    <g clip-path=\"url(#p8b503933cb)\">\n     <use style=\"fill:#1f77b4;stroke:#1f77b4;\" x=\"291.124991\" xlink:href=\"#m74975a2c19\" y=\"22.232388\"/>\n     <use style=\"fill:#1f77b4;stroke:#1f77b4;\" x=\"363.363068\" xlink:href=\"#m74975a2c19\" y=\"214.756364\"/>\n     <use style=\"fill:#1f77b4;stroke:#1f77b4;\" x=\"300.653727\" xlink:href=\"#m74975a2c19\" y=\"143.512922\"/>\n     <use style=\"fill:#1f77b4;stroke:#1f77b4;\" x=\"58.999432\" xlink:href=\"#m74975a2c19\" y=\"17.083636\"/>\n     <use style=\"fill:#1f77b4;stroke:#1f77b4;\" x=\"140.102088\" xlink:href=\"#m74975a2c19\" y=\"93.915694\"/>\n     <use style=\"fill:#1f77b4;stroke:#1f77b4;\" x=\"63.255817\" xlink:href=\"#m74975a2c19\" y=\"32.94603\"/>\n    </g>\n   </g>\n   <g id=\"matplotlib.axis_1\">\n    <g id=\"xtick_1\">\n     <g id=\"line2d_1\">\n      <defs>\n       <path d=\"M 0 0 \nL 0 3.5 \n\" id=\"md7c6fe8bb6\" style=\"stroke:#000000;stroke-width:0.8;\"/>\n      </defs>\n      <g>\n       <use style=\"stroke:#000000;stroke-width:0.8;\" x=\"107.979371\" xlink:href=\"#md7c6fe8bb6\" y=\"224.64\"/>\n      </g>\n     </g>\n     <g id=\"text_1\">\n      <!-- 0.2 -->\n      <g transform=\"translate(100.027808 239.238437)scale(0.1 -0.1)\">\n       <defs>\n        <path d=\"M 31.78125 66.40625 \nQ 24.171875 66.40625 20.328125 58.90625 \nQ 16.5 51.421875 16.5 36.375 \nQ 16.5 21.390625 20.328125 13.890625 \nQ 24.171875 6.390625 31.78125 6.390625 \nQ 39.453125 6.390625 43.28125 13.890625 \nQ 47.125 21.390625 47.125 36.375 \nQ 47.125 51.421875 43.28125 58.90625 \nQ 39.453125 66.40625 31.78125 66.40625 \nz\nM 31.78125 74.21875 \nQ 44.046875 74.21875 50.515625 64.515625 \nQ 56.984375 54.828125 56.984375 36.375 \nQ 56.984375 17.96875 50.515625 8.265625 \nQ 44.046875 -1.421875 31.78125 -1.421875 \nQ 19.53125 -1.421875 13.0625 8.265625 \nQ 6.59375 17.96875 6.59375 36.375 \nQ 6.59375 54.828125 13.0625 64.515625 \nQ 19.53125 74.21875 31.78125 74.21875 \nz\n\" id=\"DejaVuSans-48\"/>\n        <path d=\"M 10.6875 12.40625 \nL 21 12.40625 \nL 21 0 \nL 10.6875 0 \nz\n\" id=\"DejaVuSans-46\"/>\n        <path d=\"M 19.1875 8.296875 \nL 53.609375 8.296875 \nL 53.609375 0 \nL 7.328125 0 \nL 7.328125 8.296875 \nQ 12.9375 14.109375 22.625 23.890625 \nQ 32.328125 33.6875 34.8125 36.53125 \nQ 39.546875 41.84375 41.421875 45.53125 \nQ 43.3125 49.21875 43.3125 52.78125 \nQ 43.3125 58.59375 39.234375 62.25 \nQ 35.15625 65.921875 28.609375 65.921875 \nQ 23.96875 65.921875 18.8125 64.3125 \nQ 13.671875 62.703125 7.8125 59.421875 \nL 7.8125 69.390625 \nQ 13.765625 71.78125 18.9375 73 \nQ 24.125 74.21875 28.421875 74.21875 \nQ 39.75 74.21875 46.484375 68.546875 \nQ 53.21875 62.890625 53.21875 53.421875 \nQ 53.21875 48.921875 51.53125 44.890625 \nQ 49.859375 40.875 45.40625 35.40625 \nQ 44.1875 33.984375 37.640625 27.21875 \nQ 31.109375 20.453125 19.1875 8.296875 \nz\n\" id=\"DejaVuSans-50\"/>\n       </defs>\n       <use xlink:href=\"#DejaVuSans-48\"/>\n       <use x=\"63.623047\" xlink:href=\"#DejaVuSans-46\"/>\n       <use x=\"95.410156\" xlink:href=\"#DejaVuSans-50\"/>\n      </g>\n     </g>\n    </g>\n    <g id=\"xtick_2\">\n     <g id=\"line2d_2\">\n      <g>\n       <use style=\"stroke:#000000;stroke-width:0.8;\" x=\"176.094241\" xlink:href=\"#md7c6fe8bb6\" y=\"224.64\"/>\n      </g>\n     </g>\n     <g id=\"text_2\">\n      <!-- 0.4 -->\n      <g transform=\"translate(168.142679 239.238437)scale(0.1 -0.1)\">\n       <defs>\n        <path d=\"M 37.796875 64.3125 \nL 12.890625 25.390625 \nL 37.796875 25.390625 \nz\nM 35.203125 72.90625 \nL 47.609375 72.90625 \nL 47.609375 25.390625 \nL 58.015625 25.390625 \nL 58.015625 17.1875 \nL 47.609375 17.1875 \nL 47.609375 0 \nL 37.796875 0 \nL 37.796875 17.1875 \nL 4.890625 17.1875 \nL 4.890625 26.703125 \nz\n\" id=\"DejaVuSans-52\"/>\n       </defs>\n       <use xlink:href=\"#DejaVuSans-48\"/>\n       <use x=\"63.623047\" xlink:href=\"#DejaVuSans-46\"/>\n       <use x=\"95.410156\" xlink:href=\"#DejaVuSans-52\"/>\n      </g>\n     </g>\n    </g>\n    <g id=\"xtick_3\">\n     <g id=\"line2d_3\">\n      <g>\n       <use style=\"stroke:#000000;stroke-width:0.8;\" x=\"244.209111\" xlink:href=\"#md7c6fe8bb6\" y=\"224.64\"/>\n      </g>\n     </g>\n     <g id=\"text_3\">\n      <!-- 0.6 -->\n      <g transform=\"translate(236.257549 239.238437)scale(0.1 -0.1)\">\n       <defs>\n        <path d=\"M 33.015625 40.375 \nQ 26.375 40.375 22.484375 35.828125 \nQ 18.609375 31.296875 18.609375 23.390625 \nQ 18.609375 15.53125 22.484375 10.953125 \nQ 26.375 6.390625 33.015625 6.390625 \nQ 39.65625 6.390625 43.53125 10.953125 \nQ 47.40625 15.53125 47.40625 23.390625 \nQ 47.40625 31.296875 43.53125 35.828125 \nQ 39.65625 40.375 33.015625 40.375 \nz\nM 52.59375 71.296875 \nL 52.59375 62.3125 \nQ 48.875 64.0625 45.09375 64.984375 \nQ 41.3125 65.921875 37.59375 65.921875 \nQ 27.828125 65.921875 22.671875 59.328125 \nQ 17.53125 52.734375 16.796875 39.40625 \nQ 19.671875 43.65625 24.015625 45.921875 \nQ 28.375 48.1875 33.59375 48.1875 \nQ 44.578125 48.1875 50.953125 41.515625 \nQ 57.328125 34.859375 57.328125 23.390625 \nQ 57.328125 12.15625 50.6875 5.359375 \nQ 44.046875 -1.421875 33.015625 -1.421875 \nQ 20.359375 -1.421875 13.671875 8.265625 \nQ 6.984375 17.96875 6.984375 36.375 \nQ 6.984375 53.65625 15.1875 63.9375 \nQ 23.390625 74.21875 37.203125 74.21875 \nQ 40.921875 74.21875 44.703125 73.484375 \nQ 48.484375 72.75 52.59375 71.296875 \nz\n\" id=\"DejaVuSans-54\"/>\n       </defs>\n       <use xlink:href=\"#DejaVuSans-48\"/>\n       <use x=\"63.623047\" xlink:href=\"#DejaVuSans-46\"/>\n       <use x=\"95.410156\" xlink:href=\"#DejaVuSans-54\"/>\n      </g>\n     </g>\n    </g>\n    <g id=\"xtick_4\">\n     <g id=\"line2d_4\">\n      <g>\n       <use style=\"stroke:#000000;stroke-width:0.8;\" x=\"312.323982\" xlink:href=\"#md7c6fe8bb6\" y=\"224.64\"/>\n      </g>\n     </g>\n     <g id=\"text_4\">\n      <!-- 0.8 -->\n      <g transform=\"translate(304.372419 239.238437)scale(0.1 -0.1)\">\n       <defs>\n        <path d=\"M 31.78125 34.625 \nQ 24.75 34.625 20.71875 30.859375 \nQ 16.703125 27.09375 16.703125 20.515625 \nQ 16.703125 13.921875 20.71875 10.15625 \nQ 24.75 6.390625 31.78125 6.390625 \nQ 38.8125 6.390625 42.859375 10.171875 \nQ 46.921875 13.96875 46.921875 20.515625 \nQ 46.921875 27.09375 42.890625 30.859375 \nQ 38.875 34.625 31.78125 34.625 \nz\nM 21.921875 38.8125 \nQ 15.578125 40.375 12.03125 44.71875 \nQ 8.5 49.078125 8.5 55.328125 \nQ 8.5 64.0625 14.71875 69.140625 \nQ 20.953125 74.21875 31.78125 74.21875 \nQ 42.671875 74.21875 48.875 69.140625 \nQ 55.078125 64.0625 55.078125 55.328125 \nQ 55.078125 49.078125 51.53125 44.71875 \nQ 48 40.375 41.703125 38.8125 \nQ 48.828125 37.15625 52.796875 32.3125 \nQ 56.78125 27.484375 56.78125 20.515625 \nQ 56.78125 9.90625 50.3125 4.234375 \nQ 43.84375 -1.421875 31.78125 -1.421875 \nQ 19.734375 -1.421875 13.25 4.234375 \nQ 6.78125 9.90625 6.78125 20.515625 \nQ 6.78125 27.484375 10.78125 32.3125 \nQ 14.796875 37.15625 21.921875 38.8125 \nz\nM 18.3125 54.390625 \nQ 18.3125 48.734375 21.84375 45.5625 \nQ 25.390625 42.390625 31.78125 42.390625 \nQ 38.140625 42.390625 41.71875 45.5625 \nQ 45.3125 48.734375 45.3125 54.390625 \nQ 45.3125 60.0625 41.71875 63.234375 \nQ 38.140625 66.40625 31.78125 66.40625 \nQ 25.390625 66.40625 21.84375 63.234375 \nQ 18.3125 60.0625 18.3125 54.390625 \nz\n\" id=\"DejaVuSans-56\"/>\n       </defs>\n       <use xlink:href=\"#DejaVuSans-48\"/>\n       <use x=\"63.623047\" xlink:href=\"#DejaVuSans-46\"/>\n       <use x=\"95.410156\" xlink:href=\"#DejaVuSans-56\"/>\n      </g>\n     </g>\n    </g>\n    <g id=\"text_5\">\n     <!-- A -->\n     <g transform=\"translate(207.760938 252.916562)scale(0.1 -0.1)\">\n      <defs>\n       <path d=\"M 34.1875 63.1875 \nL 20.796875 26.90625 \nL 47.609375 26.90625 \nz\nM 28.609375 72.90625 \nL 39.796875 72.90625 \nL 67.578125 0 \nL 57.328125 0 \nL 50.6875 18.703125 \nL 17.828125 18.703125 \nL 11.1875 0 \nL 0.78125 0 \nz\n\" id=\"DejaVuSans-65\"/>\n      </defs>\n      <use xlink:href=\"#DejaVuSans-65\"/>\n     </g>\n    </g>\n   </g>\n   <g id=\"matplotlib.axis_2\">\n    <g id=\"ytick_1\">\n     <g id=\"line2d_5\">\n      <defs>\n       <path d=\"M 0 0 \nL -3.5 0 \n\" id=\"m3968cdf7e7\" style=\"stroke:#000000;stroke-width:0.8;\"/>\n      </defs>\n      <g>\n       <use style=\"stroke:#000000;stroke-width:0.8;\" x=\"43.78125\" xlink:href=\"#m3968cdf7e7\" y=\"222.950895\"/>\n      </g>\n     </g>\n     <g id=\"text_6\">\n      <!-- 0.0 -->\n      <g transform=\"translate(20.878125 226.750114)scale(0.1 -0.1)\">\n       <use xlink:href=\"#DejaVuSans-48\"/>\n       <use x=\"63.623047\" xlink:href=\"#DejaVuSans-46\"/>\n       <use x=\"95.410156\" xlink:href=\"#DejaVuSans-48\"/>\n      </g>\n     </g>\n    </g>\n    <g id=\"ytick_2\">\n     <g id=\"line2d_6\">\n      <g>\n       <use style=\"stroke:#000000;stroke-width:0.8;\" x=\"43.78125\" xlink:href=\"#m3968cdf7e7\" y=\"177.416542\"/>\n      </g>\n     </g>\n     <g id=\"text_7\">\n      <!-- 0.2 -->\n      <g transform=\"translate(20.878125 181.215761)scale(0.1 -0.1)\">\n       <use xlink:href=\"#DejaVuSans-48\"/>\n       <use x=\"63.623047\" xlink:href=\"#DejaVuSans-46\"/>\n       <use x=\"95.410156\" xlink:href=\"#DejaVuSans-50\"/>\n      </g>\n     </g>\n    </g>\n    <g id=\"ytick_3\">\n     <g id=\"line2d_7\">\n      <g>\n       <use style=\"stroke:#000000;stroke-width:0.8;\" x=\"43.78125\" xlink:href=\"#m3968cdf7e7\" y=\"131.882189\"/>\n      </g>\n     </g>\n     <g id=\"text_8\">\n      <!-- 0.4 -->\n      <g transform=\"translate(20.878125 135.681408)scale(0.1 -0.1)\">\n       <use xlink:href=\"#DejaVuSans-48\"/>\n       <use x=\"63.623047\" xlink:href=\"#DejaVuSans-46\"/>\n       <use x=\"95.410156\" xlink:href=\"#DejaVuSans-52\"/>\n      </g>\n     </g>\n    </g>\n    <g id=\"ytick_4\">\n     <g id=\"line2d_8\">\n      <g>\n       <use style=\"stroke:#000000;stroke-width:0.8;\" x=\"43.78125\" xlink:href=\"#m3968cdf7e7\" y=\"86.347836\"/>\n      </g>\n     </g>\n     <g id=\"text_9\">\n      <!-- 0.6 -->\n      <g transform=\"translate(20.878125 90.147054)scale(0.1 -0.1)\">\n       <use xlink:href=\"#DejaVuSans-48\"/>\n       <use x=\"63.623047\" xlink:href=\"#DejaVuSans-46\"/>\n       <use x=\"95.410156\" xlink:href=\"#DejaVuSans-54\"/>\n      </g>\n     </g>\n    </g>\n    <g id=\"ytick_5\">\n     <g id=\"line2d_9\">\n      <g>\n       <use style=\"stroke:#000000;stroke-width:0.8;\" x=\"43.78125\" xlink:href=\"#m3968cdf7e7\" y=\"40.813483\"/>\n      </g>\n     </g>\n     <g id=\"text_10\">\n      <!-- 0.8 -->\n      <g transform=\"translate(20.878125 44.612701)scale(0.1 -0.1)\">\n       <use xlink:href=\"#DejaVuSans-48\"/>\n       <use x=\"63.623047\" xlink:href=\"#DejaVuSans-46\"/>\n       <use x=\"95.410156\" xlink:href=\"#DejaVuSans-56\"/>\n      </g>\n     </g>\n    </g>\n    <g id=\"text_11\">\n     <!-- B -->\n     <g transform=\"translate(14.798438 119.350469)rotate(-90)scale(0.1 -0.1)\">\n      <defs>\n       <path d=\"M 19.671875 34.8125 \nL 19.671875 8.109375 \nL 35.5 8.109375 \nQ 43.453125 8.109375 47.28125 11.40625 \nQ 51.125 14.703125 51.125 21.484375 \nQ 51.125 28.328125 47.28125 31.5625 \nQ 43.453125 34.8125 35.5 34.8125 \nz\nM 19.671875 64.796875 \nL 19.671875 42.828125 \nL 34.28125 42.828125 \nQ 41.5 42.828125 45.03125 45.53125 \nQ 48.578125 48.25 48.578125 53.8125 \nQ 48.578125 59.328125 45.03125 62.0625 \nQ 41.5 64.796875 34.28125 64.796875 \nz\nM 9.8125 72.90625 \nL 35.015625 72.90625 \nQ 46.296875 72.90625 52.390625 68.21875 \nQ 58.5 63.53125 58.5 54.890625 \nQ 58.5 48.1875 55.375 44.234375 \nQ 52.25 40.28125 46.1875 39.3125 \nQ 53.46875 37.75 57.5 32.78125 \nQ 61.53125 27.828125 61.53125 20.40625 \nQ 61.53125 10.640625 54.890625 5.3125 \nQ 48.25 0 35.984375 0 \nL 9.8125 0 \nz\n\" id=\"DejaVuSans-66\"/>\n      </defs>\n      <use xlink:href=\"#DejaVuSans-66\"/>\n     </g>\n    </g>\n   </g>\n   <g id=\"patch_3\">\n    <path d=\"M 43.78125 224.64 \nL 43.78125 7.2 \n\" style=\"fill:none;stroke:#000000;stroke-linecap:square;stroke-linejoin:miter;stroke-width:0.8;\"/>\n   </g>\n   <g id=\"patch_4\">\n    <path d=\"M 378.58125 224.64 \nL 378.58125 7.2 \n\" style=\"fill:none;stroke:#000000;stroke-linecap:square;stroke-linejoin:miter;stroke-width:0.8;\"/>\n   </g>\n   <g id=\"patch_5\">\n    <path d=\"M 43.78125 224.64 \nL 378.58125 224.64 \n\" style=\"fill:none;stroke:#000000;stroke-linecap:square;stroke-linejoin:miter;stroke-width:0.8;\"/>\n   </g>\n   <g id=\"patch_6\">\n    <path d=\"M 43.78125 7.2 \nL 378.58125 7.2 \n\" style=\"fill:none;stroke:#000000;stroke-linecap:square;stroke-linejoin:miter;stroke-width:0.8;\"/>\n   </g>\n  </g>\n </g>\n <defs>\n  <clipPath id=\"p8b503933cb\">\n   <rect height=\"217.44\" width=\"334.8\" x=\"43.78125\" y=\"7.2\"/>\n  </clipPath>\n </defs>\n</svg>\n",
      "image/png": "[encoded data removed]"
     },
     "metadata": {
      "needs_background": "light"
     }
    }
   ],
   "source": [
    "# 读取写入文件\n",
    "\n",
    "import pandas as pd\n",
    "# data = pd.read_excel('/path/to/your/excel_file.xlsx', sheet_name='sheet2')  # 可指定工作表名\n",
    "# data = pd.read_csv('/path/to/your/file.csv')    # pd调用read函数，文件是参数\n",
    "# data.to_csv('/saving/path/of/file.csv')         # 对象的to方法，输出文件是参数\n",
    "# data.to_pickle('/saving/path/of/file.pickle')\n",
    "\n",
    "# pl = data.plot(kind='scatter', x='xlabel', y='ylabel').get_figure() # pandas画图\n",
    "# pl.savefig('/path/to/fig.jpg')\n",
    "\n",
    "dates = pd.date_range('20210401', periods=6)\n",
    "# print(dates)\n",
    "df = pd.DataFrame(np.random.rand(6,4), index=dates, columns=list('ABCD'))\n",
    "# print(df)\n",
    "pl = df.plot(kind='scatter', x='A', y='B').get_figure()     # 不保存则直接显示在交互环境中"
   ]
  },
  {
   "cell_type": "code",
   "execution_count": 40,
   "metadata": {},
   "outputs": [
    {
     "output_type": "stream",
     "name": "stdout",
     "text": [
      "                   A         B         C         D\n2021-04-01  0.351010  0.542632  0.999422  0.881835\n2021-04-02  0.167584  0.489328  0.007494  0.608115\n2021-04-03  0.037348  0.334431  0.423624  0.549527\n                   A         C\n2021-04-01  0.351010  0.999422\n2021-04-02  0.167584  0.007494\n2021-04-03  0.037348  0.423624\n                   A         B         C         D\n2021-04-01  0.351010  0.542632  0.999422  0.881835\n2021-04-02  0.167584  0.489328  0.007494  0.608115\n              A         B         C         D\ncount  6.000000  6.000000  6.000000  6.000000\nmean   0.357868  0.363917  0.516475  0.554747\nstd    0.363115  0.165352  0.354641  0.202785\nmin    0.005817  0.110644  0.007494  0.259533\n25%    0.069907  0.266728  0.324026  0.484485\n50%    0.259297  0.398368  0.509195  0.558097\n75%    0.610877  0.482573  0.735728  0.597753\nmax    0.887948  0.542632  0.999422  0.881835\n"
     ]
    }
   ],
   "source": [
    "# 生成索引和数据框，数据框切片\n",
    "\n",
    "dates = pd.date_range('20210401', periods=6)\n",
    "# print(dates)\n",
    "df = pd.DataFrame(np.random.rand(6,4), index=dates, columns=list('ABCD'))\n",
    "# print(df)\n",
    "print(df['20210401':'20210403'])    # 筛选切片\n",
    "print(df.loc['20210401':'20210403', ['A', 'C']])    # .loc指定列筛选\n",
    "# print(df.at[dates[0], 'A'])         # 访问指定元素\n",
    "print(df.head(2))                   # 查看前2行\n",
    "# print(df.tail(2))\n",
    "# print(df.index)                     # 打印索引\n",
    "# print(df.columns)                   # 打印列名\n",
    "# print(df.values)                    # 打印值\n",
    "print(df.describe())                # 描述信息，注意括号\n",
    "# print(df.T)                         # 数据框转置"
   ]
  },
  {
   "cell_type": "code",
   "execution_count": 43,
   "metadata": {},
   "outputs": [
    {
     "output_type": "stream",
     "name": "stdout",
     "text": [
      "2021-04-01    0.858312\n2021-04-02    0.168830\n2021-04-03    0.615198\n2021-04-04    0.347700\n2021-04-05    0.572187\n2021-04-06    0.259862\nFreq: D, Name: D, dtype: float64\n                   A         B         C         D\n2021-04-01  0.205477  0.850959  0.076502  0.858312\n2021-04-03  0.356700  0.542483  0.301501  0.615198\n2021-04-05  0.841282  0.174120  0.975281  0.572187\n                   A         C\n2021-04-01  0.205477  0.076502\n2021-04-03  0.356700  0.301501\n2021-04-05  0.841282  0.975281\n"
     ]
    }
   ],
   "source": [
    "# 数据筛选\n",
    "\n",
    "dates = pd.date_range('20210401', periods=6)\n",
    "# print(dates)\n",
    "df = pd.DataFrame(np.random.rand(6,4), index=dates, columns=list('ABCD'))\n",
    "# print(df)\n",
    "print(df.D)\n",
    "print(df[df.D > 0.5])               # 将D列数据大于0.5作为筛选条件，打印符合条件的所有行\n",
    "print(df[df.D > 0.5][['A','C']])    # 筛选并打印指定列，注意列选择时，使用两层[]"
   ]
  },
  {
   "cell_type": "code",
   "execution_count": 21,
   "metadata": {},
   "outputs": [
    {
     "output_type": "stream",
     "name": "stdout",
     "text": [
      "     a    b    c    d\n0  0.0  0.0  0.0  0.0\n1  0.0  0.0  0.0  0.0\n2  0.0  0.0  0.0  0.0\n3  1.0  1.0  1.0  1.0\n4  1.0  1.0  1.0  1.0\n5  1.0  1.0  1.0  1.0\n6  2.0  2.0  2.0  2.0\n7  2.0  2.0  2.0  2.0\n8  2.0  2.0  2.0  2.0\n     a    b    c    d\n0  0.0  0.0  0.0  0.0\n1  0.0  0.0  0.0  0.0\n2  0.0  0.0  0.0  0.0\n0  1.0  1.0  1.0  1.0\n1  1.0  1.0  1.0  1.0\n2  1.0  1.0  1.0  1.0\n"
     ]
    }
   ],
   "source": [
    "# pandas拼接数据\n",
    "\n",
    "import numpy as np\n",
    "import pandas as pd\n",
    "\n",
    "# 构造数据框\n",
    "df1 = pd.DataFrame(np.ones((3,4))*0, columns=['a','b','c','d'])\n",
    "df2 = pd.DataFrame(np.ones((3,4))*1, columns=['a','b','c','d'])\n",
    "df3 = pd.DataFrame(np.ones((3,4))*2, columns=['a','b','c','d'])\n",
    "\n",
    "# .concat方法拼接数据\n",
    "res = pd.concat([df1, df2, df3], axis=1)    # 合并三组数据，轴向是横向\n",
    "res = pd.concat([df1, df2, df3], axis=0, ignore_index=True) # 纵向合并，忽略原标签\n",
    "print(res)\n",
    "# concat方法的join参数，inner合并交集部分,outer以并集合并\n",
    "res = pd.concat([df1,df2], join='outer')    # 当各数据框结构不同时有效\n",
    "print(res)"
   ]
  },
  {
   "cell_type": "code",
   "execution_count": 22,
   "metadata": {},
   "outputs": [
    {
     "output_type": "stream",
     "name": "stdout",
     "text": [
      "     a    b    c    d\n0  1.0  1.0  1.0  1.0\n1  1.0  1.0  1.0  1.0\n2  1.0  1.0  1.0  1.0\n3  2.0  2.0  2.0  2.0\n4  2.0  2.0  2.0  2.0\n5  2.0  2.0  2.0  2.0\n     a    b    c    d\n0  1.0  1.0  1.0  1.0\n1  1.0  1.0  1.0  1.0\n2  1.0  1.0  1.0  1.0\n3  1.0  2.0  3.0  4.0\n"
     ]
    }
   ],
   "source": [
    "# append追加数据\n",
    "\n",
    "df2 = pd.DataFrame(np.ones((3,4))*1, columns=['a','b','c','d'])\n",
    "\n",
    "# 追加等宽的数据框\n",
    "apd = df2.append(df3, ignore_index=True)\n",
    "print(apd)\n",
    "\n",
    "# 追加等宽的Series数据\n",
    "sr1 = pd.Series([1,2,3,4], index=['a','b','c','d'])\n",
    "aps = df2.append(sr1, ignore_index=True)\n",
    "print(aps)"
   ]
  },
  {
   "cell_type": "code",
   "execution_count": 23,
   "metadata": {},
   "outputs": [
    {
     "output_type": "stream",
     "name": "stdout",
     "text": [
      "  key   A   B\n0  K0  A0  B0\n1  K1  A1  B1\n2  K2  A2  B2\n3  K3  A3  B3 \n   key   C   D\n0  K0  C0  D0\n1  K1  C1  D1\n2  K2  C2  D2\n3  K3  C3  D3\n  key   A   B   C   D\n0  K0  A0  B0  C0  D0\n1  K1  A1  B1  C1  D1\n2  K2  A2  B2  C2  D2\n3  K3  A3  B3  C3  D3\n"
     ]
    }
   ],
   "source": [
    "# merge函数合并数\n",
    "\n",
    "import pandas as pd \n",
    "\n",
    "# 构造数据\n",
    "left = pd.DataFrame({'key':['K0','K1','K2','K3'],\n",
    "                    'A':['A0','A1','A2','A3'],\n",
    "                    'B':['B0','B1','B2','B3']})\n",
    "right = pd.DataFrame({'key':['K0','K1','K2','K3'],\n",
    "                    'C':['C0','C1','C2','C3'],\n",
    "                    'D':['D0','D1','D2','D3']})\n",
    "print(left, '\\n', right)\n",
    "\n",
    "# merge合并（唯一关键字合并）\n",
    "res = pd.merge(left, right, on='key')\n",
    "print(res)"
   ]
  },
  {
   "cell_type": "code",
   "execution_count": 24,
   "metadata": {},
   "outputs": [
    {
     "output_type": "stream",
     "name": "stdout",
     "text": [
      "  key1 key2   A   B\n0   K0   K0  A0  B0\n1   K0   K1  A1  B1\n2   K1   K0  A2  B2\n3   K1   K1  A3  B3 \n   key1 key2   C   D\n0   K0   K0  C0  D0\n1   K1   K0  C1  D1\n2   K1   K1  C2  D2\n3   K2   K1  C3  D3\n  key1 key2   A   B   C   D\n0   K0   K0  A0  B0  C0  D0\n1   K1   K0  A2  B2  C1  D1\n2   K1   K1  A3  B3  C2  D2\n  key1 key2    A    B    C    D\n0   K0   K0   A0   B0   C0   D0\n1   K0   K1   A1   B1  NaN  NaN\n2   K1   K0   A2   B2   C1   D1\n3   K1   K1   A3   B3   C2   D2\n4   K2   K1  NaN  NaN   C3   D3\n  key1 key2   A   B    C    D\n0   K0   K0  A0  B0   C0   D0\n1   K0   K1  A1  B1  NaN  NaN\n2   K1   K0  A2  B2   C1   D1\n3   K1   K1  A3  B3   C2   D2\n"
     ]
    }
   ],
   "source": [
    "# 多个关键字合并\n",
    "\n",
    "import pandas as pd\n",
    "\n",
    "# 构造数据\n",
    "left = pd.DataFrame({'key1':['K0','K0','K1','K1'],\n",
    "                    'key2':['K0','K1','K0','K1'],\n",
    "                    'A':['A0','A1','A2','A3'],\n",
    "                    'B':['B0','B1','B2','B3']})\n",
    "right = pd.DataFrame({'key1':['K0','K1','K1','K2'],\n",
    "                    'key2':['K0','K0','K1','K1'],\n",
    "                    'C':['C0','C1','C2','C3'],\n",
    "                    'D':['D0','D1','D2','D3']})\n",
    "print(left, '\\n', right)\n",
    "\n",
    "# 合并数据（两个关键字）\n",
    "res = pd.merge(left, right, on=['key1', 'key2'])    # 默认how=inner\n",
    "print(res)\n",
    "res = pd.merge(left, right, on=['key1', 'key2'], how='outer')   # 并集方式合并\n",
    "print(res)\n",
    "res = pd.merge(left, right, on=['key1', 'key2'], how='left')    # 以left的key为准\n",
    "print(res)                          # 可以加入indicator参数，结果中显示合并策略\n",
    "\n",
    "# by index 合并\n",
    "res = pd.merge(left, right, left_index=True, right_index=True, how='outer')"
   ]
  },
  {
   "cell_type": "code",
   "execution_count": null,
   "metadata": {},
   "outputs": [],
   "source": []
  }
 ],
 "metadata": {
  "kernelspec": {
   "name": "python375jvsc74a57bd0d789acdc765f14451d4bbb777d3b0f0e721d4e8b46ccdfc35ffdef406370e3ef",
   "display_name": "Python 3.7.5 64-bit ('mindspore': conda)"
  },
  "language_info": {
   "codemirror_mode": {
    "name": "ipython",
    "version": 3
   },
   "file_extension": ".py",
   "mimetype": "text/x-python",
   "name": "python",
   "nbconvert_exporter": "python",
   "pygments_lexer": "ipython3",
   "version": "3.7.5-final"
  }
 },
 "nbformat": 4,
 "nbformat_minor": 4
}