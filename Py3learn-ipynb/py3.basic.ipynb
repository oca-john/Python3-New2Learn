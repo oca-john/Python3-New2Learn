{
 "cells": [
  {
   "cell_type": "markdown",
   "metadata": {},
   "source": [
    "# Python3_basic.ipynb笔记"
   ]
  },
  {
   "cell_type": "markdown",
   "metadata": {},
   "source": [
    "## 1. 基础语法要素"
   ]
  },
  {
   "cell_type": "code",
   "execution_count": 1,
   "metadata": {},
   "outputs": [
    {
     "name": "stdout",
     "output_type": "stream",
     "text": [
      "100\n",
      "John\n",
      "122 hello\n"
     ]
    }
   ],
   "source": [
    "# 赋值方法，直接用“=”赋值\n",
    "# 数字直接赋值，字串需要引号\n",
    "counter = 100          # An integer assignment\n",
    "name    = \"John\"       # A string\n",
    "print (counter)\n",
    "print (name)\n",
    "a, b = 122, 'hello'     # 同时赋值多个变量\n",
    "print (a, b)"
   ]
  },
  {
   "cell_type": "code",
   "execution_count": 2,
   "metadata": {},
   "outputs": [
    {
     "name": "stdout",
     "output_type": "stream",
     "text": [
      "Hello World!\n",
      "H\n",
      "llo\n",
      "llo World!\n",
      "Hello World!Hello World!\n",
      "Hello World!TEST\n"
     ]
    }
   ],
   "source": [
    "# 字符串，可用单引号或双引号包含\n",
    "# 字符串可用[index]进行切片，即提取元素\n",
    "str = 'Hello World!'\n",
    "print (str)          # Prints complete string\n",
    "print (str[0])       # Prints first character of the string\n",
    "print (str[2:5])     # Prints characters starting from 3rd to 5th\n",
    "print (str[2:])      # Prints string starting from 3rd character\n",
    "print (str * 2)      # Prints string two times\n",
    "print (str + \"TEST\") # Prints concatenated string"
   ]
  },
  {
   "cell_type": "code",
   "execution_count": 3,
   "metadata": {},
   "outputs": [
    {
     "name": "stdout",
     "output_type": "stream",
     "text": [
      "['abcd', 786, 2.23, 'john', 70.2]\n",
      "abcd\n",
      "[786, 2.23]\n",
      "[2.23, 'john', 70.2]\n",
      "[123, 'john', 123, 'john']\n",
      "['abcd', 786, 2.23, 'john', 70.2, 123, 'john']\n"
     ]
    }
   ],
   "source": [
    "# 列表存储一组变量值\n",
    "# 列表支持切片操作\n",
    "list = [ 'abcd', 786 , 2.23, 'john', 70.2 ]\n",
    "tinylist = [123, 'john']\n",
    "print (list)          # Prints complete list\n",
    "print (list[0])       # Prints first element of the list\n",
    "print (list[1:3])     # Prints elements starting from 2nd till 3rd\n",
    "print (list[2:])      # Prints elements starting from 3rd element\n",
    "print (tinylist * 2)  # Prints list two times\n",
    "print (list + tinylist) # Prints concatenated lists"
   ]
  },
  {
   "cell_type": "code",
   "execution_count": 4,
   "metadata": {},
   "outputs": [
    {
     "name": "stdout",
     "output_type": "stream",
     "text": [
      "('abcd', 786, 2.23, 'john', 70.2)\n",
      "abcd\n",
      "(786, 2.23)\n",
      "(2.23, 'john', 70.2)\n",
      "(123, 'john', 123, 'john')\n",
      "('abcd', 786, 2.23, 'john', 70.2, 123, 'john')\n"
     ]
    }
   ],
   "source": [
    "# 元组存储一组不可变的变量值\n",
    "# 元组除元素不可变之外，继承列表的大多数性质和操作方法\n",
    "tuple = ( 'abcd', 786 , 2.23, 'john', 70.2  )\n",
    "tinytuple = (123, 'john')\n",
    "print (tuple)           # Prints complete tuple\n",
    "print (tuple[0])        # Prints first element of the tuple\n",
    "print (tuple[1:3])      # Prints elements starting from 2nd till 3rd\n",
    "print (tuple[2:])       # Prints elements starting from 3rd element\n",
    "print (tinytuple * 2)   # Prints tuple two times\n",
    "print (tuple + tinytuple) # Prints concatenated tuple"
   ]
  },
  {
   "cell_type": "code",
   "execution_count": 5,
   "metadata": {},
   "outputs": [
    {
     "name": "stdout",
     "output_type": "stream",
     "text": [
      "This is one\n",
      "This is two\n",
      "{'name': 'john', 'code': 6734, 'dept': 'sales'}\n",
      "dict_keys(['name', 'code', 'dept'])\n",
      "dict_values(['john', 6734, 'sales'])\n"
     ]
    }
   ],
   "source": [
    "# 字典是无序地存储键值对的变量，类似与哈希\n",
    "# 字典无需，提取元素通过键值实现，键值具有唯一性\n",
    "dict = {}\n",
    "dict['one'] = \"This is one\"\n",
    "dict[2]     = \"This is two\"\n",
    "tinydict = {'name': 'john','code':6734, 'dept': 'sales'}\n",
    "print (dict['one'])       # Prints value for 'one' key\n",
    "print (dict[2])           # Prints value for 2 key\n",
    "print (tinydict)          # Prints complete dictionary\n",
    "print (tinydict.keys())   # Prints all the keys\n",
    "print (tinydict.values()) # Prints all the values"
   ]
  },
  {
   "cell_type": "code",
   "execution_count": 6,
   "metadata": {},
   "outputs": [
    {
     "name": "stdout",
     "output_type": "stream",
     "text": [
      "Line 1 - Value of c is  31\n",
      "Line 2 - Value of c is  11\n",
      "Line 3 - Value of c is  210\n",
      "Line 4 - Value of c is  2.1\n",
      "Line 5 - Value of c is  1\n",
      "Line 6 - Value of c is  8\n",
      "Line 7 - Value of c is  2\n"
     ]
    }
   ],
   "source": [
    "# 算术运算，支持常见的所有运算类型\n",
    "a = 21\n",
    "b = 10\n",
    "c = 0\n",
    "c = a + b\n",
    "print (\"Line 1 - Value of c is \", c)\n",
    "c = a - b\n",
    "print (\"Line 2 - Value of c is \", c )\n",
    "c = a * b\n",
    "print (\"Line 3 - Value of c is \", c)\n",
    "c = a / b\n",
    "print (\"Line 4 - Value of c is \", c )\n",
    "c = a % b\n",
    "print (\"Line 5 - Value of c is \", c)\n",
    "a = 2\n",
    "b = 3\n",
    "c = a**b\n",
    "print (\"Line 6 - Value of c is \", c)\n",
    "a = 10\n",
    "b = 5\n",
    "c = a//b\n",
    "print (\"Line 7 - Value of c is \", c)"
   ]
  },
  {
   "cell_type": "code",
   "execution_count": 7,
   "metadata": {},
   "outputs": [
    {
     "name": "stdout",
     "output_type": "stream",
     "text": [
      "Value available at index 2 :  1997\n",
      "New value available at index 2 :  2001\n"
     ]
    }
   ],
   "source": [
    "# 更新列表，列表支持为元素重新赋值，替换之前的值\n",
    "list = ['physics', 'chemistry', 1997, 2000]\n",
    "print (\"Value available at index 2 : \", list[2])\n",
    "list[2] = 2001\n",
    "print (\"New value available at index 2 : \", list[2])"
   ]
  },
  {
   "cell_type": "code",
   "execution_count": 8,
   "metadata": {},
   "outputs": [
    {
     "name": "stdout",
     "output_type": "stream",
     "text": [
      "['physics', 'chemistry', 1997, 2000]\n",
      "After deleting value at index 2 :  ['physics', 'chemistry', 2000]\n"
     ]
    }
   ],
   "source": [
    "# 删除列表，del命令可删除列表的元素或整个列表\n",
    "list = ['physics', 'chemistry', 1997, 2000]\n",
    "print (list)\n",
    "del list[2]     # 删除index为2的元素（即第三个元素）\n",
    "print (\"After deleting value at index 2 : \", list)"
   ]
  },
  {
   "cell_type": "code",
   "execution_count": 9,
   "metadata": {},
   "outputs": [
    {
     "name": "stdout",
     "output_type": "stream",
     "text": [
      "length of list1 is: 3\n"
     ]
    }
   ],
   "source": [
    "# 计算列表长度，len方法可计算列表中元素数目，即列表长度\n",
    "list1 = ['physics', 'chemistry', 'maths']\n",
    "print ('length of list1 is:', len(list1))"
   ]
  },
  {
   "cell_type": "code",
   "execution_count": 10,
   "metadata": {},
   "outputs": [
    {
     "name": "stdout",
     "output_type": "stream",
     "text": [
      "Max value element :  Python\n",
      "Max value element :  700\n",
      "min value element :  C++\n",
      "min value element :  200\n"
     ]
    }
   ],
   "source": [
    "# max方法，计算列表中的最大值\n",
    "list1, list2 = ['C++','Java', 'Python'], [456, 700, 200] # 同时赋值两个变量\n",
    "print (\"Max value element : \", max(list1))  # 字串按字母表排大小\n",
    "print (\"Max value element : \", max(list2))\n",
    "\n",
    "# min方法，计算最小值\n",
    "list1, list2 = ['C++','Java', 'Python'], [456, 700, 200]\n",
    "print (\"min value element : \", min(list1))\n",
    "print (\"min value element : \", min(list2))"
   ]
  },
  {
   "cell_type": "code",
   "execution_count": 11,
   "metadata": {},
   "outputs": [
    {
     "name": "stdout",
     "output_type": "stream",
     "text": [
      "False\n",
      "True\n",
      "False\n",
      "True\n",
      "False\n",
      "True\n"
     ]
    }
   ],
   "source": [
    "# 比较运算符，比较元素大小，输出为逻辑型\n",
    "a = 21\n",
    "b = 10\n",
    "print(a == b)  # 判断两个元素是否相等，必须用==\n",
    "print(a != b)\n",
    "print(a < b)\n",
    "print(a > b)\n",
    "print(a <= b)\n",
    "print(a >= b) # 大于等于包含边界元素"
   ]
  },
  {
   "cell_type": "code",
   "execution_count": 12,
   "metadata": {},
   "outputs": [
    {
     "name": "stdout",
     "output_type": "stream",
     "text": [
      "14\n",
      "7\n",
      "28\n",
      "7.0\n",
      "2\n",
      "16\n",
      "4\n"
     ]
    }
   ],
   "source": [
    "# 基本运算\n",
    "a = 4\n",
    "b = 10\n",
    "c = 3\n",
    "print(a + b)  # 加法\n",
    "c += a; print(c) # 加等（先加，后赋值）\n",
    "c *= a; print(c) # 乘等（先乘，后赋值）\n",
    "c /= a; print(c) # 除等\n",
    "c  = 2\n",
    "c %= a; print(c) # 先取模，后赋值\n",
    "c **= a; print(c)# 先乘方，后赋值\n",
    "c //= a; print(c)# 先取余，后赋值"
   ]
  },
  {
   "cell_type": "code",
   "execution_count": 13,
   "metadata": {},
   "outputs": [
    {
     "name": "stdout",
     "output_type": "stream",
     "text": [
      "True\n"
     ]
    }
   ],
   "source": [
    "# in操作，表示某变量是某数组中的元素\n",
    "a = 12\n",
    "list = [1,23,43,12,54]\n",
    "print(a in list)    # 判断a变量的值，是否在list列表中存在"
   ]
  },
  {
   "cell_type": "markdown",
   "metadata": {},
   "source": [
    "## 2. 列表操作方法"
   ]
  },
  {
   "cell_type": "code",
   "execution_count": 14,
   "metadata": {},
   "outputs": [
    {
     "name": "stdout",
     "output_type": "stream",
     "text": [
      "updated list :  ['C++', 'Java', 'Python', ['C#', 'C']]\n"
     ]
    }
   ],
   "source": [
    "# append方法，在末尾追加元素\n",
    "list1 = ['C++', 'Java', 'Python']\n",
    "list1.append(['C#','C'])    # 多个元素作为整体被追加\n",
    "print (\"updated list : \", list1)"
   ]
  },
  {
   "cell_type": "code",
   "execution_count": 15,
   "metadata": {},
   "outputs": [
    {
     "name": "stdout",
     "output_type": "stream",
     "text": [
      "Count for 123 :  2\n",
      "Count for zara :  1\n"
     ]
    }
   ],
   "source": [
    "# count方法，统计元素在列表中出现的次数\n",
    "aList = [123, 'xyz', 'zara', 'abc', 123];\n",
    "print (\"Count for 123 : \", aList.count(123))\n",
    "print (\"Count for zara : \", aList.count('zara'))"
   ]
  },
  {
   "cell_type": "code",
   "execution_count": 16,
   "metadata": {},
   "outputs": [
    {
     "name": "stdout",
     "output_type": "stream",
     "text": [
      "Extended List : ['physics', 'chemistry', 'maths', 'tst', 'tst2', 'tst3']\n"
     ]
    }
   ],
   "source": [
    "# extend方法，追加多个元素\n",
    "list1 = ['physics', 'chemistry', 'maths']\n",
    "list2 = ['tst','tst2','tst3']   # 多个元素被逐一追加\n",
    "list1.extend(list2)\n",
    "print ('Extended List :', list1)"
   ]
  },
  {
   "cell_type": "code",
   "execution_count": 17,
   "metadata": {},
   "outputs": [
    {
     "name": "stdout",
     "output_type": "stream",
     "text": [
      "Index of chemistry: 1\n",
      "Index of C#: 3\n"
     ]
    }
   ],
   "source": [
    "# index方法，获得元素在列表中的索引号\n",
    "list1 = ['physics', 'chemistry', 'maths', 'C#']\n",
    "print ('Index of chemistry:', list1.index('chemistry'))\n",
    "print ('Index of C#:', list1.index('C#'))"
   ]
  },
  {
   "cell_type": "code",
   "execution_count": 18,
   "metadata": {},
   "outputs": [
    {
     "name": "stdout",
     "output_type": "stream",
     "text": [
      "Final list :  ['physics', 'Biology', 'chemistry', 'maths']\n"
     ]
    }
   ],
   "source": [
    "# insert方法，插入元素\n",
    "list1 = ['physics', 'chemistry', 'maths']\n",
    "list1.insert(1, 'Biology')  # 在指定索引位置插入元素\n",
    "print ('Final list : ', list1)"
   ]
  },
  {
   "cell_type": "code",
   "execution_count": 19,
   "metadata": {},
   "outputs": [
    {
     "name": "stdout",
     "output_type": "stream",
     "text": [
      "list now :  ['physics', 'Biology', 'chemistry']\n",
      "list now :  ['physics', 'chemistry']\n"
     ]
    }
   ],
   "source": [
    "# pop方法，从列表中取出一个元素（根据索引号）\n",
    "list1 = ['physics', 'Biology', 'chemistry', 'maths']\n",
    "list1.pop()     # 默认从末尾取出一个元素\n",
    "print (\"list now : \", list1)\n",
    "list1.pop(1)    # 从指定索引取出一个元素\n",
    "print (\"list now : \", list1)"
   ]
  },
  {
   "cell_type": "code",
   "execution_count": 20,
   "metadata": {},
   "outputs": [
    {
     "name": "stdout",
     "output_type": "stream",
     "text": [
      "list now :  ['physics', 'chemistry', 'maths']\n",
      "list now :  ['physics', 'chemistry']\n"
     ]
    }
   ],
   "source": [
    "# remove方法，从列表中删除指定元素（根据元素值）\n",
    "list1 = ['physics', 'Biology', 'chemistry', 'maths']\n",
    "list1.remove('Biology')\n",
    "print (\"list now : \", list1)\n",
    "list1.remove('maths')\n",
    "print (\"list now : \", list1)"
   ]
  },
  {
   "cell_type": "code",
   "execution_count": 21,
   "metadata": {},
   "outputs": [
    {
     "name": "stdout",
     "output_type": "stream",
     "text": [
      "list now :  ['maths', 'chemistry', 'Biology', 'physics']\n"
     ]
    }
   ],
   "source": [
    "# reverse方法，让列表逆序\n",
    "list1 = ['physics', 'Biology', 'chemistry', 'maths']\n",
    "list1.reverse()\n",
    "print (\"list now : \", list1)"
   ]
  },
  {
   "cell_type": "code",
   "execution_count": 22,
   "metadata": {},
   "outputs": [
    {
     "name": "stdout",
     "output_type": "stream",
     "text": [
      "list now :  ['Biology', 'chemistry', 'maths', 'physics']\n"
     ]
    }
   ],
   "source": [
    "# sort方法，对列表元素进行排序\n",
    "list1 = ['physics', 'Biology', 'chemistry', 'maths']\n",
    "list1.sort()    # 默认按字母表/数字排序\n",
    "print (\"list now : \", list1)"
   ]
  },
  {
   "cell_type": "markdown",
   "metadata": {},
   "source": [
    "## 3. 元组操作方法"
   ]
  },
  {
   "cell_type": "code",
   "execution_count": 23,
   "metadata": {},
   "outputs": [
    {
     "name": "stdout",
     "output_type": "stream",
     "text": [
      "tup1[0]:  physics\n",
      "tup2[1:5]:  (2, 3, 4, 5)\n"
     ]
    }
   ],
   "source": [
    "# 元组的定义，和用切片的方式取值\n",
    "tup1 = ('physics', 'chemistry', 1997, 2000)\n",
    "tup2 = (1, 2, 3, 4, 5, 6, 7 )\n",
    "print (\"tup1[0]: \", tup1[0])\n",
    "print (\"tup2[1:5]: \", tup2[1:5])"
   ]
  },
  {
   "cell_type": "code",
   "execution_count": 24,
   "metadata": {},
   "outputs": [
    {
     "name": "stdout",
     "output_type": "stream",
     "text": [
      "(12, 34.56, 'abc', 'xyz')\n"
     ]
    }
   ],
   "source": [
    "# 元组不可以修改元素值，只能基于已有元组创建新元组\n",
    "tup1 = (12, 34.56)\n",
    "tup2 = ('abc', 'xyz')\n",
    "# tup1[0] = 100;    # 不支持修改\n",
    "tup3 = tup1 + tup2  # 创建新元组\n",
    "print (tup3)"
   ]
  },
  {
   "cell_type": "code",
   "execution_count": null,
   "metadata": {},
   "outputs": [],
   "source": [
    "# del操作删除元组\n",
    "tup = ('physics', 'chemistry', 1997, 2000);\n",
    "print (tup)\n",
    "del tup     # 删除后元组将不存在，变为“未定义”状态\n",
    "print ('after del:', tup)"
   ]
  },
  {
   "cell_type": "code",
   "execution_count": 26,
   "metadata": {},
   "outputs": [
    {
     "name": "stdout",
     "output_type": "stream",
     "text": [
      "First tuple length : 3\n",
      "Second tuple length :  2\n"
     ]
    }
   ],
   "source": [
    "# len方法与列表中一样，计算元组包含的元素总数\n",
    "tuple1, tuple2 = (123, 'xyz', 'zara'), (456, 'abc') # 分别赋值\n",
    "print (\"First tuple length : \", len(tuple1))\n",
    "print (\"Second tuple length : \", len(tuple2))"
   ]
  },
  {
   "cell_type": "markdown",
   "metadata": {},
   "source": [
    "## 4. 字典操作方法"
   ]
  },
  {
   "cell_type": "code",
   "execution_count": 27,
   "metadata": {},
   "outputs": [
    {
     "name": "stdout",
     "output_type": "stream",
     "text": [
      "{'Name': 'Zara', 'Age': 7, 'Class': 'First'}\n",
      "name: Zara\n"
     ]
    }
   ],
   "source": [
    "# 字典根据键值对用打括号{}创建，键值中间用冒号:表示成对关系\n",
    "dict = {'Name': 'Zara', 'Age': 7, 'Class': 'First'};\n",
    "print(dict)     # 访问所有键值对\n",
    "print('name:',dict['Name']) # 根据键，查找对应的值"
   ]
  },
  {
   "cell_type": "code",
   "execution_count": 28,
   "metadata": {},
   "outputs": [
    {
     "name": "stdout",
     "output_type": "stream",
     "text": [
      "{'Age': 7, 'Class': 'First'}\n",
      "{}\n",
      "<class 'dict'>\n"
     ]
    }
   ],
   "source": [
    "# del方法，可用于删除字典中的一个键值对，或整个字典\n",
    "# clear方法，用于清空字典内容\n",
    "dict = {'Name': 'Zara', 'Age': 7, 'Class': 'First'}\n",
    "del dict['Name'] # remove entry with key 'Name'\n",
    "print(dict)\n",
    "dict.clear()     # remove all entries in dict\n",
    "print(dict)\n",
    "del dict         # delete entire dictionary\n",
    "print(dict)"
   ]
  },
  {
   "cell_type": "code",
   "execution_count": 29,
   "metadata": {},
   "outputs": [
    {
     "name": "stdout",
     "output_type": "stream",
     "text": [
      "dict['Name']:  Manni\n"
     ]
    }
   ],
   "source": [
    "# 键名不可重复，否则只输出最后一对\n",
    "dict = {'Name': 'Zara', 'Age': 7, 'Name': 'Manni'}\n",
    "print (\"dict['Name']: \", dict['Name'])"
   ]
  },
  {
   "cell_type": "code",
   "execution_count": 30,
   "metadata": {},
   "outputs": [
    {
     "name": "stdout",
     "output_type": "stream",
     "text": [
      "Length : 3\n"
     ]
    }
   ],
   "source": [
    "# len()函数计算数据长度\n",
    "dict = {'Name': 'Manni', 'Age': 7, 'Class': 'First'}\n",
    "print (\"Length : %d\" % len(dict))  # 核心是len(dict)计算字典长度\n",
    "# %是格式化输出，\"%d\"是digit占位符，引号外\"% len(dict)\"是真正函数"
   ]
  },
  {
   "cell_type": "code",
   "execution_count": null,
   "metadata": {},
   "outputs": [],
   "source": [
    "# str()函数将数据转为字符\n",
    "dict = {'Name': 'Manni', 'Age': 7, 'Class': 'First'}\n",
    "print (\"Equivalent String : %s\" % str(dict))\n",
    "# %是格式化输出，\"%s\"是string占位符，引号外\"% str(dict)\"是真正函数"
   ]
  },
  {
   "cell_type": "code",
   "execution_count": 32,
   "metadata": {},
   "outputs": [
    {
     "name": "stdout",
     "output_type": "stream",
     "text": [
      "Variable Type : <class 'dict'>\n"
     ]
    }
   ],
   "source": [
    "# type()函数获得数据类型信息\n",
    "dict = {'Name': 'Manni', 'Age': 7, 'Class': 'First'}\n",
    "print (\"Variable Type : %s\" %  type (dict))"
   ]
  },
  {
   "cell_type": "code",
   "execution_count": 33,
   "metadata": {},
   "outputs": [
    {
     "name": "stdout",
     "output_type": "stream",
     "text": [
      "New Dictionary :  {'Name': 'Manni', 'Age': 7, 'Class': 'First'}\n"
     ]
    }
   ],
   "source": [
    "# copy方法可以复制一个字典的内容\n",
    "dict1 = {'Name': 'Manni', 'Age': 7, 'Class': 'First'}\n",
    "dict2 = dict1.copy()\n",
    "print (\"New Dictionary : \",dict2)"
   ]
  },
  {
   "cell_type": "code",
   "execution_count": 34,
   "metadata": {},
   "outputs": [
    {
     "name": "stdout",
     "output_type": "stream",
     "text": [
      "Value : 27\n",
      "Value : NA\n"
     ]
    }
   ],
   "source": [
    "# get方法，从字典中查找键值对\n",
    "dict = {'Name': 'Zara', 'Age': 27}\n",
    "print (\"Value : %s\" %  dict.get('Age')) # 存在，返回相应的值\n",
    "print (\"Value : %s\" %  dict.get('Sex', \"NA\"))   # 不存在，返回None，可自定义返回值为NA或其他信息"
   ]
  },
  {
   "cell_type": "code",
   "execution_count": 35,
   "metadata": {},
   "outputs": [
    {
     "name": "stdout",
     "output_type": "stream",
     "text": [
      "Value : dict_items([('Name', 'Zara'), ('Age', 7)])\n"
     ]
    }
   ],
   "source": [
    "# item方法，提取字典中的键值对\n",
    "dict = {'Name': 'Zara', 'Age': 7}\n",
    "print (\"Value : %s\" %  dict.items())    # 格式化输出%S表示string占位符"
   ]
  },
  {
   "cell_type": "code",
   "execution_count": 36,
   "metadata": {},
   "outputs": [
    {
     "name": "stdout",
     "output_type": "stream",
     "text": [
      "Value : 7\n",
      "Value : None\n",
      "{'Name': 'Zara', 'Age': 7, 'Sex': None}\n"
     ]
    }
   ],
   "source": [
    "# setdefault方法，设置默认值，存在就输出，不存在输出指定的默认值\n",
    "dict = {'Name': 'Zara', 'Age': 7}\n",
    "print (\"Value : %s\" %  dict.setdefault('Age', None)) # 格式化输出%S，string\n",
    "print (\"Value : %s\" %  dict.setdefault('Sex', None)) # 不存在时，默认None\n",
    "print (dict)    # 测试过后，增加了新选项"
   ]
  },
  {
   "cell_type": "code",
   "execution_count": 37,
   "metadata": {},
   "outputs": [
    {
     "name": "stdout",
     "output_type": "stream",
     "text": [
      "updated dict :  {'Name': 'Zara', 'Age': 7, 'Sex': 'female'}\n"
     ]
    }
   ],
   "source": [
    "# update方法，向字典中增加新的键值对\n",
    "dict = {'Name': 'Zara', 'Age': 7}\n",
    "dict2 = {'Sex': 'female' }\n",
    "dict.update(dict2)\n",
    "print (\"updated dict : \", dict)"
   ]
  },
  {
   "cell_type": "code",
   "execution_count": 38,
   "metadata": {},
   "outputs": [
    {
     "data": {
      "text/plain": [
       "dict_values(['female', 7, 'Zara'])"
      ]
     },
     "execution_count": 38,
     "metadata": {},
     "output_type": "execute_result"
    }
   ],
   "source": [
    "# values方法，提取字典中的所有值\n",
    "dict = {'Sex': 'female', 'Age': 7, 'Name': 'Zara'}\n",
    "dict.values()"
   ]
  },
  {
   "cell_type": "markdown",
   "metadata": {},
   "source": [
    "## 5. Time时间模块方法"
   ]
  },
  {
   "cell_type": "code",
   "execution_count": 39,
   "metadata": {},
   "outputs": [
    {
     "name": "stdout",
     "output_type": "stream",
     "text": [
      "time.struct_time(tm_year=2020, tm_mon=6, tm_mday=10, tm_hour=19, tm_min=33, tm_sec=51, tm_wday=2, tm_yday=162, tm_isdst=0)\n"
     ]
    }
   ],
   "source": [
    "# time模块\n",
    "import time;\n",
    "print(time.localtime()) # 获得当前时间的详细信息"
   ]
  },
  {
   "cell_type": "code",
   "execution_count": 40,
   "metadata": {},
   "outputs": [
    {
     "name": "stdout",
     "output_type": "stream",
     "text": [
      "asctime :  Wed Jun 10 19:33:51 2020\n"
     ]
    }
   ],
   "source": [
    "import time\n",
    "t = time.localtime()\n",
    "print (\"asctime : \",time.asctime(t))"
   ]
  },
  {
   "cell_type": "code",
   "execution_count": 41,
   "metadata": {},
   "outputs": [
    {
     "name": "stdout",
     "output_type": "stream",
     "text": [
      "Here is the calendar:\n",
      "     June 2020\n",
      "Mo Tu We Th Fr Sa Su\n",
      " 1  2  3  4  5  6  7\n",
      " 8  9 10 11 12 13 14\n",
      "15 16 17 18 19 20 21\n",
      "22 23 24 25 26 27 28\n",
      "29 30\n",
      "\n"
     ]
    }
   ],
   "source": [
    "# calendar模块\n",
    "import calendar\n",
    "cal = calendar.month(2020, 6)   # 获得指定月份的日历\n",
    "print (\"Here is the calendar:\")\n",
    "print (cal)"
   ]
  },
  {
   "cell_type": "code",
   "execution_count": 42,
   "metadata": {},
   "outputs": [
    {
     "name": "stdout",
     "output_type": "stream",
     "text": [
      "ctime :  Wed Jun 10 19:33:51 2020\n"
     ]
    }
   ],
   "source": [
    "# ctime方法，获得当前时间\n",
    "import time\n",
    "print (\"ctime : \", time.ctime())"
   ]
  },
  {
   "cell_type": "code",
   "execution_count": 43,
   "metadata": {},
   "outputs": [
    {
     "name": "stdout",
     "output_type": "stream",
     "text": [
      "Start : Wed Jun 10 19:33:51 2020\n",
      "End : Wed Jun 10 19:33:56 2020\n"
     ]
    }
   ],
   "source": [
    "# time模块的sleep方法\n",
    "import time\n",
    "print (\"Start : %s\" % time.ctime())\n",
    "time.sleep( 5 )         # 暂停指定时间（秒）\n",
    "print (\"End : %s\" % time.ctime())"
   ]
  },
  {
   "cell_type": "code",
   "execution_count": 44,
   "metadata": {},
   "outputs": [
    {
     "name": "stdout",
     "output_type": "stream",
     "text": [
      "Dec 31 2015 10:39:45\n"
     ]
    }
   ],
   "source": [
    "# mktime方法，将以元组形式存储的时间转换为正确的时间表示格式\n",
    "import time\n",
    "t = (2015, 12, 31, 10, 39, 45, 1, 48, 0)\n",
    "t = time.mktime(t)\n",
    "print (time.strftime(\"%b %d %Y %H:%M:%S\", time.localtime(t)))"
   ]
  },
  {
   "cell_type": "markdown",
   "metadata": {},
   "source": [
    "## 6. 函数及其参数"
   ]
  },
  {
   "cell_type": "code",
   "execution_count": 45,
   "metadata": {},
   "outputs": [
    {
     "name": "stdout",
     "output_type": "stream",
     "text": [
      "This is first strings.\n"
     ]
    }
   ],
   "source": [
    "# def func_name()定义函数，func_name()调用函数\n",
    "# 定义时要设置形参，调用时要输入实参\n",
    "def printme(str):   # 定义函数\n",
    "   print (str)      # 本质是复制了print()函数\n",
    "   return\n",
    "printme(\"This is first strings.\") # 调用"
   ]
  },
  {
   "cell_type": "code",
   "execution_count": 46,
   "metadata": {},
   "outputs": [
    {
     "name": "stdout",
     "output_type": "stream",
     "text": [
      "This is second strings.\n"
     ]
    }
   ],
   "source": [
    "# 调用函数时，如果实参是变量，则需要引用变量的真实值作为实参，这就是引用传递\n",
    "def printme(str):   # 定义函数\n",
    "   print (str)      # 本质是复制了print()函数\n",
    "   return\n",
    "strs = \"This is second strings.\" # 为了和关键字区分，用strs\n",
    "printme(strs) # 通过引用调用"
   ]
  },
  {
   "cell_type": "code",
   "execution_count": 47,
   "metadata": {},
   "outputs": [
    {
     "name": "stdout",
     "output_type": "stream",
     "text": [
      "This is third strings.\n"
     ]
    }
   ],
   "source": [
    "# 调用时，若已知形参的关键字，可通过给形参赋值来调用函数（关键字参数）\n",
    "def printme(str):   # 形参关键字为str\n",
    "   print (str)\n",
    "   return\n",
    "printme(str = 'This is third strings.') # 通过给str赋值，直接调用"
   ]
  },
  {
   "cell_type": "code",
   "execution_count": 48,
   "metadata": {},
   "outputs": [
    {
     "name": "stdout",
     "output_type": "stream",
     "text": [
      "Name:  miki\n",
      "Age  50\n"
     ]
    }
   ],
   "source": [
    "# 函数可支持多个关键字参数\n",
    "def printinfo( name, age ):     # 定义函数带有两个关键字\n",
    "   print (\"Name: \", name)\n",
    "   print (\"Age \", age)\n",
    "   return\n",
    "printinfo( age = 50, name = \"miki\" )    # 给关键字赋值，直接调用"
   ]
  },
  {
   "cell_type": "code",
   "execution_count": 49,
   "metadata": {},
   "outputs": [
    {
     "name": "stdout",
     "output_type": "stream",
     "text": [
      "Name:  miki\n",
      "Age  50\n",
      "Name:  miki\n",
      "Age  35\n"
     ]
    }
   ],
   "source": [
    "# 函数的关键字可以在定义时就指定默认值\n",
    "def printinfo( name, age = 35 ):    # 定义时指定默认的age值\n",
    "   print (\"Name: \", name)\n",
    "   print (\"Age \", age)\n",
    "   return\n",
    "printinfo( age = 50, name = \"miki\" ) # 调用时更新age的值，则用新的值\n",
    "printinfo( name = \"miki\" )      # 调用时不更新age的值，保留默认值"
   ]
  },
  {
   "cell_type": "code",
   "execution_count": 50,
   "metadata": {},
   "outputs": [
    {
     "name": "stdout",
     "output_type": "stream",
     "text": [
      "Output is: \n",
      "10\n",
      "Output is: \n",
      "70\n",
      "60\n",
      "50\n"
     ]
    }
   ],
   "source": [
    "# 函数支持可变参数\n",
    "def printinfo( arg1, *vartuple ):   # arg1是固定参数，后者是参数元组\n",
    "   print (\"Output is: \")\n",
    "   print (arg1)\n",
    "   for var in vartuple:     # var是中间参数，在每个循环中值是变化的（是变量）\n",
    "      print (var)\n",
    "   return\n",
    "printinfo( 10 )\n",
    "printinfo( 70, 60, 50 )     # 可变参数以元组形式传入，逐个代入"
   ]
  },
  {
   "cell_type": "code",
   "execution_count": 51,
   "metadata": {},
   "outputs": [
    {
     "name": "stdout",
     "output_type": "stream",
     "text": [
      "Value of total :  30\n",
      "Value of total :  40\n"
     ]
    }
   ],
   "source": [
    "# 匿名函数，不带有显式的def关键字的函数\n",
    "# 函数名，lambda（用于定义简单的匿名函数），形参：冒号后面接公式（用形参表示）\n",
    "sum = lambda arg1, arg2: arg1 + arg2\n",
    "print (\"Value of total : \", sum( 10, 20 ))\n",
    "print (\"Value of total : \", sum( 20, 20 ))"
   ]
  },
  {
   "cell_type": "code",
   "execution_count": 52,
   "metadata": {},
   "outputs": [
    {
     "name": "stdout",
     "output_type": "stream",
     "text": [
      "Inside the function :  30\n",
      "Outside the function :  30\n"
     ]
    }
   ],
   "source": [
    "# return操作在函数末尾返回一个值\n",
    "def sum( arg1, arg2 ):\n",
    "   total = arg1 + arg2\n",
    "   print (\"Inside the function : \", total)  # 函数内直接输出结果\n",
    "   return total             # 让函数具有return total的功能\n",
    "total = sum( 10, 20 )       # 如果没有return，则无法输出\n",
    "#（此处是调用函数，没有真正的加法过程，是否返回结果是根据函数里的定义爱决定的）\n",
    "print (\"Outside the function : \", total )"
   ]
  },
  {
   "cell_type": "markdown",
   "metadata": {},
   "source": [
    "## 7. 全局变量"
   ]
  },
  {
   "cell_type": "code",
   "execution_count": 53,
   "metadata": {},
   "outputs": [
    {
     "name": "stdout",
     "output_type": "stream",
     "text": [
      "Inside the function local total:  30\n",
      "Outside the function global total:  0\n"
     ]
    }
   ],
   "source": [
    "total = 0       # 全局变量\n",
    "def sum( arg1, arg2 ):\n",
    "   total = arg1 + arg2;     # 局部变量，修改sum函数内的total变量\n",
    "   print (\"Inside the function local total: \", total)\n",
    "   return total\n",
    "sum( 10, 20 )\n",
    "print (\"Outside the function global total: \", total) # sum函数以外total未修改"
   ]
  },
  {
   "cell_type": "markdown",
   "metadata": {},
   "source": [
    "## 8. 包操作"
   ]
  },
  {
   "cell_type": "code",
   "execution_count": 54,
   "metadata": {},
   "outputs": [],
   "source": [
    "# import导入包\n",
    "import torchvision              # 导入包\n",
    "import torchvision as tv        # 导入包，给包的缩写\n",
    "from matplotlib import pyplot   # 导入包中的函数\n",
    "from matplotlib import pyplot as plt    # 导入包中的函数，给函数的缩写"
   ]
  },
  {
   "cell_type": "code",
   "execution_count": 55,
   "metadata": {},
   "outputs": [
    {
     "name": "stdout",
     "output_type": "stream",
     "text": [
      "['__doc__', '__file__', '__loader__', '__name__', '__package__', '__spec__', 'acos', 'acosh', 'asin', 'asinh', 'atan', 'atan2', 'atanh', 'ceil', 'comb', 'copysign', 'cos', 'cosh', 'degrees', 'dist', 'e', 'erf', 'erfc', 'exp', 'expm1', 'fabs', 'factorial', 'floor', 'fmod', 'frexp', 'fsum', 'gamma', 'gcd', 'hypot', 'inf', 'isclose', 'isfinite', 'isinf', 'isnan', 'isqrt', 'ldexp', 'lgamma', 'log', 'log10', 'log1p', 'log2', 'modf', 'nan', 'perm', 'pi', 'pow', 'prod', 'radians', 'remainder', 'sin', 'sinh', 'sqrt', 'tan', 'tanh', 'tau', 'trunc']\n"
     ]
    }
   ],
   "source": [
    "# 通过dir查看python库中的函数\n",
    "import math\n",
    "content = dir(math) # math本质是py的lib下的文件夹，可通过dir查看所有子函数\n",
    "print (content)"
   ]
  },
  {
   "cell_type": "code",
   "execution_count": 56,
   "metadata": {},
   "outputs": [
    {
     "name": "stdout",
     "output_type": "stream",
     "text": [
      "Result is 100\n",
      "Good bye!\n"
     ]
    }
   ],
   "source": [
    "var = 100   # 赋值\n",
    "if ( var == 100 ) : print (\"Result is 100\") # if 条件：为真时执行的语句\n",
    "print (\"Good bye!\")"
   ]
  },
  {
   "cell_type": "markdown",
   "metadata": {},
   "source": [
    "## 9. 文件操作"
   ]
  },
  {
   "cell_type": "code",
   "execution_count": 57,
   "metadata": {},
   "outputs": [],
   "source": [
    "# open打开文件句柄，w表示写入\n",
    "# write用于文件写入\n",
    "fo = open(\"foo.txt\", \"w\")\n",
    "fo.write( \"Python is a great language.\\nYeah its great!!\\n\") # .write()写入\n",
    "fo.close()          # .close()关闭句柄"
   ]
  },
  {
   "cell_type": "code",
   "execution_count": 58,
   "metadata": {},
   "outputs": [
    {
     "name": "stdout",
     "output_type": "stream",
     "text": [
      "Name of the file:  foo.txt\n",
      "Closed or not :  False\n",
      "Opening mode :  wb\n"
     ]
    }
   ],
   "source": [
    "# open打开文件句柄，wb表示以二进制写入，只能写\n",
    "fo = open(\"foo.txt\", \"wb\")\n",
    "print (\"Name of the file: \", fo.name)\n",
    "print (\"Closed or not : \", fo.closed)\n",
    "print (\"Opening mode : \", fo.mode)\n",
    "fo.close()          # .close()关闭句柄"
   ]
  },
  {
   "cell_type": "code",
   "execution_count": 59,
   "metadata": {},
   "outputs": [
    {
     "name": "stdout",
     "output_type": "stream",
     "text": [
      "Read String is :  \n"
     ]
    }
   ],
   "source": [
    "# open打开文件句柄，r+表示读写\n",
    "# read一次读完，作为一个变量\n",
    "# readline一次读一行，作为一个变量\n",
    "# readlines一次读完，作为列表\n",
    "fo = open(\"foo.txt\", \"r+\")\n",
    "str = fo.read(10)   # 读入10行，赋值给str变量\n",
    "print (\"Read String is : \", str)\n",
    "fo.close()          # .close()关闭句柄"
   ]
  },
  {
   "cell_type": "code",
   "execution_count": 60,
   "metadata": {},
   "outputs": [
    {
     "name": "stdout",
     "output_type": "stream",
     "text": [
      "Name of the file:  foo.txt\n",
      "Read Line: []\n",
      "Read Line: []\n"
     ]
    }
   ],
   "source": [
    "# readlines用于一次读取句柄文件的所有内容\n",
    "# open打开文件句柄，r+表示读写\n",
    "fo = open(\"foo.txt\", \"r+\")\n",
    "print (\"Name of the file: \", fo.name)   # 打印文件名\n",
    "line = fo.readlines()       # 逐行读取所有\n",
    "print (\"Read Line: %s\" % (line))\n",
    "line = fo.readlines(2)      # 逐行读取2行\n",
    "print (\"Read Line: %s\" % (line))\n",
    "fo.close()          # .close()关闭句柄"
   ]
  },
  {
   "cell_type": "code",
   "execution_count": 61,
   "metadata": {},
   "outputs": [
    {
     "name": "stdout",
     "output_type": "stream",
     "text": [
      "Name of the file:  foo.txt\n",
      "Read Line: []\n",
      "Read Line: \n"
     ]
    }
   ],
   "source": [
    "# seek重置指针到指定位置，(0,0)表示起始位置\n",
    "fo = open(\"foo.txt\", \"r+\")\n",
    "print (\"Name of the file: \", fo.name)\n",
    "line = fo.readlines()   # 一次读取整个文件（指针到末尾），作为一个字符串\n",
    "print (\"Read Line: %s\" % (line))\n",
    "fo.seek(0, 0)           # 重新设置指针到开始\n",
    "line = fo.readline()    # 逐行读取文件\n",
    "print (\"Read Line: %s\" % (line))\n",
    "fo.close()"
   ]
  },
  {
   "cell_type": "code",
   "execution_count": 62,
   "metadata": {},
   "outputs": [
    {
     "name": "stdout",
     "output_type": "stream",
     "text": [
      "Name of the file:  foo.txt\n",
      "Read Line: \n",
      "current position :  0\n"
     ]
    }
   ],
   "source": [
    "# tell返回当前指针的位置\n",
    "fo = open(\"foo.txt\", \"r+\")\n",
    "print (\"Name of the file: \", fo.name)\n",
    "line = fo.readline()\n",
    "print (\"Read Line: %s\" % (line))\n",
    "pos=fo.tell()           # 查找当前指针位置\n",
    "print (\"current position : \",pos)\n",
    "fo.close()"
   ]
  },
  {
   "cell_type": "markdown",
   "metadata": {},
   "source": [
    "## 10. OS模块方法"
   ]
  },
  {
   "cell_type": "code",
   "execution_count": 63,
   "metadata": {},
   "outputs": [
    {
     "name": "stdout",
     "output_type": "stream",
     "text": [
      "F_OK - return value False\n",
      "R_OK - return value False\n",
      "W_OK - return value False\n",
      "X_OK - return value False\n"
     ]
    }
   ],
   "source": [
    "# os模块access方法，访问系统路径下的文件\n",
    "import os, sys\n",
    "ret = os.access(\"/tmp/foo.txt\", os.F_OK)    # 测试文件是否存在\n",
    "print (\"F_OK - return value %s\"% ret)\n",
    "ret = os.access(\"/tmp/foo.txt\", os.R_OK)    # 测试文件是否可读\n",
    "print (\"R_OK - return value %s\"% ret)\n",
    "ret = os.access(\"/tmp/foo.txt\", os.W_OK)    # 测试文件是否可写\n",
    "print (\"W_OK - return value %s\"% ret)\n",
    "ret = os.access(\"/tmp/foo.txt\", os.X_OK)    # 测试文件是否可执行\n",
    "print (\"X_OK - return value %s\"% ret)"
   ]
  },
  {
   "cell_type": "code",
   "execution_count": null,
   "metadata": {},
   "outputs": [],
   "source": [
    "# os模块打开文件、写入、关闭文件\n",
    "import os, sys\n",
    "fd = os.open( \"foo.txt\", os.O_RDWR|os.O_CREAT ) # 用os模块打开文件，后面的参数表示：若存在就以读写方式打开，若不存在就创建\n",
    "line = \"this is test\"\n",
    "b = str.encode(line)    # 指定内容变量，需要转为字节变量encode\n",
    "os.write(fd, b)         # 将内容写入文件句柄\n",
    "os.close(fd)            # 关闭文件句柄\n",
    "print (\"Closed the file successfully!!\")"
   ]
  },
  {
   "cell_type": "code",
   "execution_count": null,
   "metadata": {},
   "outputs": [],
   "source": [
    "os.open()   # 打开文件句柄\n",
    "# os.fdopen() # 通过fd句柄打开文件\n",
    "os.read()   # 读取文件\n",
    "os.write(fd,str)  # 写入文件\n",
    "os.close()  # 关闭文件句柄\n",
    "os.chdir()  # cd更改当前目录\n",
    "# os.fchdir(fd) # 通过fd句柄更改目录，f指文件句柄，chdir=cd\n",
    "os.mkdir()  # 创建目录\n",
    "# os.makedirs() # 创建目录-递归\n",
    "os.getcwd() # pwd输出当前目录\n",
    "os.lseek(fd,0,0)  # seek重置指针到line，作用与fd句柄，重置到0,0位置"
   ]
  },
  {
   "cell_type": "code",
   "execution_count": null,
   "metadata": {},
   "outputs": [],
   "source": [
    "# os.symlink()    # 创建一个软链接\n",
    "# os.readlink()   # 返回软链接指向的文件路径\n",
    "import os\n",
    "src = '/usr/bin/python' # 源地址\n",
    "dst = '/tmp/python'     # 目标地址\n",
    "os.symlink(src, dst)    # 创建软链接\n",
    "print \"软链接创建成功\""
   ]
  },
  {
   "cell_type": "markdown",
   "metadata": {},
   "source": [
    "## 11. 测试语句"
   ]
  },
  {
   "cell_type": "code",
   "execution_count": 67,
   "metadata": {},
   "outputs": [
    {
     "name": "stdout",
     "output_type": "stream",
     "text": [
      "Written content in the file successfully\n"
     ]
    }
   ],
   "source": [
    "# Try Else语句\n",
    "try:\n",
    "   fh = open(\"testfile\", \"w\")\n",
    "   fh.write(\"This is my test file for exception handling!!\")\n",
    "except IOError:         # 如果try部分引发IOError异常，则执行\n",
    "   print (\"Error: can\\'t find file or read data\")\n",
    "else:                   # 没发生异常，则执行\n",
    "   print (\"Written content in the file successfully\")\n",
    "   fh.close()"
   ]
  },
  {
   "cell_type": "code",
   "execution_count": 68,
   "metadata": {},
   "outputs": [
    {
     "name": "stdout",
     "output_type": "stream",
     "text": [
      "Error: can't find file or read data\n"
     ]
    }
   ],
   "source": [
    "# Finally语句\n",
    "try:\n",
    "   fh = open(\"testfile\", \"w\")\n",
    "   fh.write(\"This is my test file for exception handling!!\")\n",
    "finally:                # 不论try语句是否通过，都将执行\n",
    "   print (\"Error: can\\'t find file or read data\")\n",
    "   fh.close()"
   ]
  },
  {
   "cell_type": "markdown",
   "metadata": {},
   "source": [
    "## 12. 面向对象、类、方法\n",
    "- 暂时无法加注释"
   ]
  },
  {
   "cell_type": "code",
   "execution_count": 69,
   "metadata": {},
   "outputs": [
    {
     "name": "stdout",
     "output_type": "stream",
     "text": [
      "Employee.__doc__: Common base class for all employees\n",
      "Employee.__name__: Employee\n",
      "Employee.__module__: __main__\n",
      "Employee.__bases__: (<class 'object'>,)\n",
      "Employee.__dict__: {'__module__': '__main__', '__doc__': 'Common base class for all employees', 'empCount': 2, '__init__': <function Employee.__init__ at 0x7f56fdb9e160>, 'displayCount': <function Employee.displayCount at 0x7f56fdb9e1f0>, 'displayEmployee': <function Employee.displayEmployee at 0x7f56fdb9e280>, '__dict__': <attribute '__dict__' of 'Employee' objects>, '__weakref__': <attribute '__weakref__' of 'Employee' objects>}\n"
     ]
    }
   ],
   "source": [
    "class Employee:\n",
    "   'Common base class for all employees'\n",
    "   empCount = 0\n",
    "\n",
    "   def __init__(self, name, salary):\n",
    "      self.name = name\n",
    "      self.salary = salary\n",
    "      Employee.empCount += 1\n",
    "\n",
    "   def displayCount(self):\n",
    "     print (\"Total Employee %d\" % Employee.empCount)\n",
    "\n",
    "   def displayEmployee(self):\n",
    "      print (\"Name : \", self.name,  \", Salary: \", self.salary)\n",
    "\n",
    "emp1 = Employee(\"Zara\", 2000)\n",
    "emp2 = Employee(\"Manni\", 5000)\n",
    "print (\"Employee.__doc__:\", Employee.__doc__)\n",
    "print (\"Employee.__name__:\", Employee.__name__)\n",
    "print (\"Employee.__module__:\", Employee.__module__)\n",
    "print (\"Employee.__bases__:\", Employee.__bases__)\n",
    "print (\"Employee.__dict__:\", Employee.__dict__ )"
   ]
  },
  {
   "cell_type": "code",
   "execution_count": 70,
   "metadata": {},
   "outputs": [
    {
     "name": "stdout",
     "output_type": "stream",
     "text": [
      "140011600783248 140011600783248 140011600783248\n",
      "Point destroyed\n"
     ]
    }
   ],
   "source": [
    "class Point:\n",
    "   def __init__( self, x=0, y=0):\n",
    "      self.x = x\n",
    "      self.y = y\n",
    "   def __del__(self):\n",
    "      class_name = self.__class__.__name__\n",
    "      print (class_name, \"destroyed\")\n",
    "\n",
    "pt1 = Point()\n",
    "pt2 = pt1\n",
    "pt3 = pt1\n",
    "print (id(pt1), id(pt2), id(pt3));   # prints the ids of the obejcts\n",
    "del pt1\n",
    "del pt2\n",
    "del pt3"
   ]
  },
  {
   "cell_type": "code",
   "execution_count": 71,
   "metadata": {},
   "outputs": [
    {
     "name": "stdout",
     "output_type": "stream",
     "text": [
      "Calling child constructor\n",
      "Calling child method\n",
      "Calling parent method\n",
      "Parent attribute : 200\n"
     ]
    }
   ],
   "source": [
    "class Parent:        # define parent class\n",
    "   parentAttr = 100\n",
    "   def __init__(self):\n",
    "      print (\"Calling parent constructor\")\n",
    "\n",
    "   def parentMethod(self):\n",
    "      print ('Calling parent method')\n",
    "\n",
    "   def setAttr(self, attr):\n",
    "      Parent.parentAttr = attr\n",
    "\n",
    "   def getAttr(self):\n",
    "      print (\"Parent attribute :\", Parent.parentAttr)\n",
    "\n",
    "class Child(Parent): # define child class\n",
    "   def __init__(self):\n",
    "      print (\"Calling child constructor\")\n",
    "\n",
    "   def childMethod(self):\n",
    "      print ('Calling child method')\n",
    "\n",
    "c = Child()          # instance of child\n",
    "c.childMethod()      # child calls its method\n",
    "c.parentMethod()     # calls parent's method\n",
    "c.setAttr(200)       # again call parent's method\n",
    "c.getAttr()          # again call parent's method"
   ]
  },
  {
   "cell_type": "code",
   "execution_count": 72,
   "metadata": {},
   "outputs": [
    {
     "name": "stdout",
     "output_type": "stream",
     "text": [
      "Calling child method\n"
     ]
    }
   ],
   "source": [
    "class Parent:        # define parent class\n",
    "   def myMethod(self):\n",
    "      print ('Calling parent method')\n",
    "\n",
    "class Child(Parent): # define child class\n",
    "   def myMethod(self):\n",
    "      print ('Calling child method')\n",
    "\n",
    "c = Child()          # instance of child\n",
    "c.myMethod()         # child calls overridden method"
   ]
  },
  {
   "cell_type": "code",
   "execution_count": 73,
   "metadata": {},
   "outputs": [
    {
     "name": "stdout",
     "output_type": "stream",
     "text": [
      "Vector (7, 8)\n"
     ]
    }
   ],
   "source": [
    "class Vector:\n",
    "   def __init__(self, a, b):\n",
    "      self.a = a\n",
    "      self.b = b\n",
    "\n",
    "   def __str__(self):\n",
    "      return 'Vector (%d, %d)' % (self.a, self.b)\n",
    "\n",
    "   def __add__(self,other):\n",
    "      return Vector(self.a + other.a, self.b + other.b)\n",
    "\n",
    "v1 = Vector(2,10)\n",
    "v2 = Vector(5,-2)\n",
    "print (v1 + v2)"
   ]
  },
  {
   "cell_type": "code",
   "execution_count": null,
   "metadata": {},
   "outputs": [],
   "source": [
    "class JustCounter:\n",
    "   __secretCount = 0\n",
    "\n",
    "   def count(self):\n",
    "      self.__secretCount += 1\n",
    "      print (self.__secretCount)\n",
    "\n",
    "counter = JustCounter()\n",
    "counter.count()\n",
    "counter.count()\n",
    "print (counter.__secretCount)"
   ]
  },
  {
   "cell_type": "markdown",
   "metadata": {},
   "source": [
    "## 13. 正则表达式"
   ]
  },
  {
   "cell_type": "code",
   "execution_count": 75,
   "metadata": {},
   "outputs": [
    {
     "name": "stdout",
     "output_type": "stream",
     "text": [
      "matchObj.group() :  Cats are smarter than dogs\n",
      "matchObj.group(1) :  Cats\n",
      "matchObj.group(2) :  smarter\n"
     ]
    }
   ],
   "source": [
    "# re正则表达式，match方法用于正则匹配\n",
    "import re       # 载入re包\n",
    "line = \"Cats are smarter than dogs\"     # 匹配源文件\n",
    "matchObj = re.match( r'(.*) are (.*?) .*', line, re.M|re.I)\n",
    "if matchObj:\n",
    "   print (\"matchObj.group() : \", matchObj.group())  # 捕获完整匹配\n",
    "   print (\"matchObj.group(1) : \", matchObj.group(1)) # 捕获第一个()\n",
    "   print (\"matchObj.group(2) : \", matchObj.group(2)) # 捕获第二个()\n",
    "else:\n",
    "   print (\"No match!!\")"
   ]
  },
  {
   "cell_type": "code",
   "execution_count": 76,
   "metadata": {},
   "outputs": [
    {
     "name": "stdout",
     "output_type": "stream",
     "text": [
      "searchObj.group() :  Cats are smarter than dogs\n",
      "searchObj.group(1) :  Cats\n",
      "searchObj.group(2) :  smarter\n"
     ]
    }
   ],
   "source": [
    "# search方法用于正则匹配\n",
    "import re\n",
    "line = \"Cats are smarter than dogs\";\n",
    "searchObj = re.search( r'(.*) are (.*?) .*', line, re.M|re.I)\n",
    "if searchObj:\n",
    "   print (\"searchObj.group() : \", searchObj.group())\n",
    "   print (\"searchObj.group(1) : \", searchObj.group(1))\n",
    "   print (\"searchObj.group(2) : \", searchObj.group(2))\n",
    "else:\n",
    "   print (\"Nothing found!!\")"
   ]
  },
  {
   "cell_type": "code",
   "execution_count": 77,
   "metadata": {},
   "outputs": [
    {
     "name": "stdout",
     "output_type": "stream",
     "text": [
      "No match!!\n",
      "search --> searchObj.group() :  dogs\n"
     ]
    }
   ],
   "source": [
    "# match和search的比较\n",
    "import re\n",
    "line = \"Cats are smarter than dogs\";\n",
    "matchObj = re.match( r'dogs', line, re.M|re.I)  # 从开头开始匹配\n",
    "if matchObj:\n",
    "   print (\"match --> matchObj.group() : \", matchObj.group())\n",
    "else:\n",
    "   print (\"No match!!\")\n",
    "searchObj = re.search( r'dogs', line, re.M|re.I)# 在整个文本中搜索匹配\n",
    "if searchObj:\n",
    "   print (\"search --> searchObj.group() : \", searchObj.group())\n",
    "else:\n",
    "   print (\"Nothing found!!\")"
   ]
  },
  {
   "cell_type": "code",
   "execution_count": 78,
   "metadata": {},
   "outputs": [
    {
     "data": {
      "text/plain": [
       "('evaHegonHyuanH', 3)"
      ]
     },
     "execution_count": 78,
     "metadata": {},
     "output_type": "execute_result"
    }
   ],
   "source": [
    "re.match('sub', 'substring')    # 从开头匹配\n",
    "re.search('str', 'substring')   # 在文本中搜索匹配项\n",
    "re.findall('a', 'a aa ab ac')   # 返回所有符合a的匹配结果，放入列表\n",
    "re.split('[ab]', 'abcd')        # 先按a分割文本，再按b分割子文本\n",
    "re.sub('\\d', 'H', 'eva3egon4yuan4',1)   # 将文本中的\\d替换为H，替换1次\n",
    "re.subn('\\d', 'H', 'eva3egon4yuan4')    # 将文本中的\\d替换为H，返回替换结果和替换次数"
   ]
  },
  {
   "cell_type": "markdown",
   "metadata": {},
   "source": [
    "## 14. 数字操作"
   ]
  },
  {
   "cell_type": "code",
   "execution_count": 79,
   "metadata": {},
   "outputs": [
    {
     "data": {
      "text/plain": [
       "4.0"
      ]
     },
     "execution_count": 79,
     "metadata": {},
     "output_type": "execute_result"
    }
   ],
   "source": [
    "abs(-45)            # abs()返回参数的绝对值（内置函数）\n",
    "import math\n",
    "math.fabs(-45)      # 返回参数的绝对值（math模块中的）\n",
    "math.ceil(-4.17)    # 返回上进整数，-4\n",
    "math.ceil(10.12)    # 返回上进整数，11\n",
    "math.floor(-4.17)   # 返回下舍整数，-5\n",
    "math.floor(10.12)   # 返回下舍整数，10\n",
    "math.exp(4)         # 返回e的()次方\n",
    "math.log(100)       # 返回以e为底，参数的对数\n",
    "math.log(math.e)    # math.e调用e的值，log结果为1\n",
    "math.log(8,2)       # 返回以2为底，参数的对数\n",
    "math.log10(10000)   # 返回以10为底，参数的对数"
   ]
  },
  {
   "cell_type": "code",
   "execution_count": 80,
   "metadata": {},
   "outputs": [
    {
     "data": {
      "text/plain": [
       "10.0"
      ]
     },
     "execution_count": 80,
     "metadata": {},
     "output_type": "execute_result"
    }
   ],
   "source": [
    "max(1,4,45)         # 返回参数中最大值\n",
    "min(1,4,45)         # 返回参数中最小值\n",
    "import math\n",
    "math.modf(2.12)     # 返回参数的小数和整数部分（浮点）\n",
    "math.pow(3,2)       # 返回3的2次方\n",
    "math.sqrt(100)      # 返回参数的开方"
   ]
  },
  {
   "cell_type": "code",
   "execution_count": 81,
   "metadata": {},
   "outputs": [
    {
     "data": {
      "text/plain": [
       "9.739137435296747"
      ]
     },
     "execution_count": 81,
     "metadata": {},
     "output_type": "execute_result"
    }
   ],
   "source": [
    "import random\n",
    "random.choice(range(32))    # 从区间随机选一个数\n",
    "random.choice([2,4,5,3,8])  # 从列表中随机选一个数\n",
    "random.choice('helloyou')   # 从文本中随机选一个字符\n",
    "random.randrange(0,100,5)   # 在0-100之间，以5为步长，生成数组，并随机返回一个数\n",
    "random.random()     # 返回一个(0,1)返回内的实数\n",
    "random.seed(2)      # 设置seed，让random每次生成相同随机数\n",
    "random.random()     # 返回一个(0,1)范围内的实数\n",
    "random.uniform(5,10)# 返回一个(5,10)范围内的浮点数"
   ]
  },
  {
   "cell_type": "code",
   "execution_count": 82,
   "metadata": {},
   "outputs": [
    {
     "name": "stdout",
     "output_type": "stream",
     "text": [
      "[16, 10, 5, 20]\n"
     ]
    }
   ],
   "source": [
    "import random\n",
    "list = [20, 16, 10, 5]  # 定义列表\n",
    "random.shuffle(list)    # 随机重排列表\n",
    "print(list)"
   ]
  },
  {
   "cell_type": "markdown",
   "metadata": {},
   "source": [
    "## 15. 字串操作\n",
    "Python 中，有 2 种常用的字符串类型，分别为 str 和 bytes 类型，其中 str 用来表示 Unicode 字符，bytes 用来表示二进制数据。str 类型和 bytes 类型之间就需要使用 encode() 和 decode() 方法进行转换。"
   ]
  },
  {
   "cell_type": "code",
   "execution_count": 83,
   "metadata": {},
   "outputs": [
    {
     "name": "stdout",
     "output_type": "stream",
     "text": [
      "My name is Zara and weight is 21 kg!\n"
     ]
    }
   ],
   "source": [
    "# 格式化输出字串\n",
    "# %s是string占位符，%d是digit占位符，%(这是里参数)\n",
    "print (\"My name is %s and weight is %d kg!\" %('Zara', 21))"
   ]
  },
  {
   "cell_type": "code",
   "execution_count": 84,
   "metadata": {},
   "outputs": [
    {
     "name": "stdout",
     "output_type": "stream",
     "text": [
      "this is a long string\n",
      "which contains multi lines\n",
      "in it. just have a try.\n"
     ]
    }
   ],
   "source": [
    "# ''' 或 \"\"\" 成对的三引号用于多行文本（保留换行的格式）\n",
    "mult_str = '''this is a long string\n",
    "which contains multi lines\n",
    "in it. just have a try.'''\n",
    "print (mult_str)"
   ]
  },
  {
   "cell_type": "code",
   "execution_count": 85,
   "metadata": {},
   "outputs": [
    {
     "name": "stdout",
     "output_type": "stream",
     "text": [
      "C:\\nowhere\n",
      "C:\\\\nowhere\n"
     ]
    }
   ],
   "source": [
    "# 字符转义，显示原字符串\n",
    "print ('C:\\\\nowhere')   # 路径中的\\被转义后显示一个\n",
    "print (r'C:\\\\nowhere')  # r表达式用于避免任何转义"
   ]
  },
  {
   "cell_type": "code",
   "execution_count": 86,
   "metadata": {},
   "outputs": [
    {
     "name": "stdout",
     "output_type": "stream",
     "text": [
      "str.capitalize() :  This is string example....wow!!!\n"
     ]
    }
   ],
   "source": [
    "# str.capitalize将字符串转为首字母大写\n",
    "# str.lower()全小写\n",
    "# str.upper()全大写\n",
    "str = \"this is string example....wow!!!\"\n",
    "print (\"str.capitalize() : \", str.capitalize())"
   ]
  },
  {
   "cell_type": "code",
   "execution_count": 87,
   "metadata": {},
   "outputs": [
    {
     "name": "stdout",
     "output_type": "stream",
     "text": [
      "str.count(sub, 4, 40) :  2\n"
     ]
    }
   ],
   "source": [
    "# str.count用于计算'子字串在起点和终点间出现的次数'\n",
    "str = \"this is string example....wow!!!\";\n",
    "sub = \"i\";\n",
    "print (\"str.count(sub, 4, 40) : \", str.count(sub, 4, 40))"
   ]
  },
  {
   "cell_type": "code",
   "execution_count": 88,
   "metadata": {},
   "outputs": [
    {
     "name": "stdout",
     "output_type": "stream",
     "text": [
      "7\n",
      "7\n",
      "-1\n"
     ]
    }
   ],
   "source": [
    "# find()方法检测字串中是否包含子字串str（返回第一个）\n",
    "# rfind()方法检测字串中是否包含子字串str（返回最后一个）\n",
    "str1 = \"Runoob example....wow!!!\"\n",
    "str2 = \"exam\";\n",
    "print (str1.find(str2))\n",
    "print (str1.find(str2, 5))\n",
    "print (str1.find(str2, 10))"
   ]
  },
  {
   "cell_type": "code",
   "execution_count": null,
   "metadata": {},
   "outputs": [],
   "source": [
    "# endswith()字串是否以指定字符结尾\n",
    "str.endswith('endstr', start, end)\n",
    "# startswith()字串是否以指定字符开始\n",
    "str.startswith('startsstr', start, end)\n",
    "# isalnum()字串是否由字母(alpha)和数字(num)组成\n",
    "# isdigit()字串是否只由数字(digit)组成\n",
    "# isalpha()字串是否只由字母(alpha)组成\n",
    "# isdecimal()字串是否只包含十进制字符\n",
    "# islower()是否全小写\n",
    "# isupper()是否全大写\n",
    "# isspace()是否只有空格"
   ]
  },
  {
   "cell_type": "code",
   "execution_count": 90,
   "metadata": {},
   "outputs": [
    {
     "name": "stdout",
     "output_type": "stream",
     "text": [
      "['this', 'is', 'string', 'example....wow!!!']\n",
      "['th', 's is string example....wow!!!']\n",
      "['this is string example....', 'o', '!!!']\n"
     ]
    }
   ],
   "source": [
    "# split方法用于分割字串\n",
    "str = \"this is string example....wow!!!\"\n",
    "print (str.split( ))        # 默认用空格分割字串\n",
    "print (str.split('i',1))    # \n",
    "print (str.split('w'))"
   ]
  },
  {
   "cell_type": "code",
   "execution_count": 91,
   "metadata": {},
   "outputs": [
    {
     "name": "stdout",
     "output_type": "stream",
     "text": [
      "a-b-c\n"
     ]
    }
   ],
   "source": [
    "# join方法用于合并字符串，并加入指定分隔符\n",
    "s = \"-\"                 # 指定分隔符\n",
    "seq = (\"a\", \"b\", \"c\")   # 指定序列文件\n",
    "print (s.join(seq))     # 用s分隔符连接seq序列中的元素"
   ]
  },
  {
   "cell_type": "code",
   "execution_count": 92,
   "metadata": {},
   "outputs": [
    {
     "name": "stdout",
     "output_type": "stream",
     "text": [
      "Length of the string:  32\n"
     ]
    }
   ],
   "source": [
    "# len()方法用于计算字串长度（即包含多少个字符）\n",
    "str = \"this is string example....wow!!!\"\n",
    "print (\"Length of the string: \", len(str))"
   ]
  },
  {
   "cell_type": "code",
   "execution_count": 93,
   "metadata": {},
   "outputs": [
    {
     "name": "stdout",
     "output_type": "stream",
     "text": [
      "thwas was string example....wow!!! thwas was really string\n",
      "thwas was string example....wow!!! thwas is really string\n"
     ]
    }
   ],
   "source": [
    "# replace()方法用于在字串中'替换一部分子字串'\n",
    "str = \"this is string example....wow!!! this is really string\"\n",
    "print (str.replace(\"is\", \"was\"))    # 默认替换全部匹配项\n",
    "print (str.replace(\"is\", \"was\", 3)) # 替换不超过3次（共有4次）"
   ]
  },
  {
   "cell_type": "code",
   "execution_count": 94,
   "metadata": {},
   "outputs": [
    {
     "name": "stdout",
     "output_type": "stream",
     "text": [
      "th3s 3s str3ng 2x1mpl2....w4w!!!\n"
     ]
    }
   ],
   "source": [
    "# translate()方法用于按照一定的映射关系执行多次替换，即翻译\n",
    "intab = \"aeiou\"     # 源字符集\n",
    "outtab = \"12345\"    # 目标字符集\n",
    "trantab = str.maketrans(intab, outtab)  # 制作翻译表\n",
    "str = \"this is string example....wow!!!\"\n",
    "print (str.translate(trantab))          # 执行翻译并输出"
   ]
  },
  {
   "cell_type": "code",
   "execution_count": null,
   "metadata": {},
   "outputs": [],
   "source": []
  }
 ],
 "metadata": {
  "kernelspec": {
   "display_name": "Python 3.8.2 64-bit",
   "language": "python",
   "name": "python38264bit9e4d03e20996465da1f1ac4a50888c89"
  },
  "language_info": {
   "codemirror_mode": {
    "name": "ipython",
    "version": 3
   },
   "file_extension": ".py",
   "mimetype": "text/x-python",
   "name": "python",
   "nbconvert_exporter": "python",
   "pygments_lexer": "ipython3",
   "version": "3.8.2"
  }
 },
 "nbformat": 4,
 "nbformat_minor": 2
}
